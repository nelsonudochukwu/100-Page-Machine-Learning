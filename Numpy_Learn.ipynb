{
 "cells": [
  {
   "cell_type": "code",
   "execution_count": 3,
   "metadata": {},
   "outputs": [],
   "source": [
    "import numpy as np"
   ]
  },
  {
   "cell_type": "code",
   "execution_count": 4,
   "metadata": {},
   "outputs": [],
   "source": [
    "from numpy import random"
   ]
  },
  {
   "cell_type": "code",
   "execution_count": 5,
   "metadata": {},
   "outputs": [],
   "source": [
    "import seaborn as sns"
   ]
  },
  {
   "cell_type": "code",
   "execution_count": 6,
   "metadata": {},
   "outputs": [],
   "source": [
    "import matplotlib.pyplot as plt"
   ]
  },
  {
   "cell_type": "code",
   "execution_count": 7,
   "metadata": {},
   "outputs": [
    {
     "name": "stdout",
     "output_type": "stream",
     "text": [
      "1.23.2\n"
     ]
    }
   ],
   "source": [
    "print(np.__version__)"
   ]
  },
  {
   "cell_type": "code",
   "execution_count": 8,
   "metadata": {},
   "outputs": [],
   "source": [
    "# NumPy is a Python library used for working with arrays.\n",
    "\n",
    "# It also has functions for working in domain of linear algebra, fourier transform, and matrices.\n",
    "\n",
    "# NumPy was created in 2005 by Travis Oliphant. It is an open source project and you can use it freely.\n",
    "\n",
    "# NumPy stands for Numerical Python.\n",
    "\n",
    "# Why Use NumPy?\n",
    "# In Python we have lists that serve the purpose of arrays, but they are slow to process.\n",
    "\n",
    "# NumPy aims to provide an array object that is up to 50x faster than traditional Python lists.\n",
    "\n",
    "# The array object in NumPy is called ndarray, it provides a lot of supporting functions that make working with ndarray very easy.\n",
    "\n",
    "# NumPy is used to work with arrays. The array object in NumPy is called ndarray.\n",
    "# We can create a NumPy ndarray object by using the array() function.\n",
    "# To create an ndarray, we can pass a list, tuple or any array-like object into the array() method, and it will be converted into an ndarray:"
   ]
  },
  {
   "cell_type": "code",
   "execution_count": 9,
   "metadata": {},
   "outputs": [
    {
     "name": "stdout",
     "output_type": "stream",
     "text": [
      "[1 2 3 4 5]\n",
      "<class 'numpy.ndarray'>\n",
      "\n",
      "[1 2 3 4 5]\n",
      "<class 'numpy.ndarray'>\n"
     ]
    }
   ],
   "source": [
    "arr = np.array([1,2,3,4,5])\n",
    "print(arr)\n",
    "print(type(arr))\n",
    "\n",
    "print()\n",
    "\n",
    "arr = np.array((1,2,3,4,5))\n",
    "print(arr)\n",
    "print(type(arr))"
   ]
  },
  {
   "cell_type": "code",
   "execution_count": 10,
   "metadata": {},
   "outputs": [
    {
     "name": "stdout",
     "output_type": "stream",
     "text": [
      "0\n",
      "1\n",
      "2\n",
      "3\n",
      "3\n",
      "3\n"
     ]
    }
   ],
   "source": [
    "# Arrays can have as many number of dimensions starting from zero dimension(0-D) and ndim is used to check number of dimensions\n",
    "# An array that has 2-D arrays (matrices) as its elements is called 3-D array.\n",
    "\n",
    "a = np.array(42)\n",
    "b = np.array([1, 2, 3, 4, 5])\n",
    "c = np.array([[1, 2, 3], [4, 5, 6]])\n",
    "d = np.array([[[1, 2, 3], [4, 5, 6]], [[1, 2, 3], [4, 5, 6]]])\n",
    "e = np.array([[[1, 2, 3], [4, 5, 6]], [[1, 2, 3], [4, 5, 6]], [[1, 2, 3], [4, 5, 6]]])\n",
    "f = np.array([[[1, 2, 3], [4, 5, 6]]])\n",
    "\n",
    "\n",
    "print(a.ndim)\n",
    "print(b.ndim)\n",
    "print(c.ndim)\n",
    "print(d.ndim)\n",
    "print(e.ndim)\n",
    "print(f.ndim)\n"
   ]
  },
  {
   "cell_type": "code",
   "execution_count": 11,
   "metadata": {},
   "outputs": [
    {
     "name": "stdout",
     "output_type": "stream",
     "text": [
      "[[[1 2 3]\n",
      "  [4 5 6]]]\n",
      "number of dimensions:  3\n"
     ]
    }
   ],
   "source": [
    "# When the array is created, you can define the number of dimensions by using the ndmin argument.\n",
    "arrr = np.array([[1,2,3], [4,5,6]], ndmin=3)\n",
    "print(arrr)\n",
    "print('number of dimensions: ', arrr.ndim)"
   ]
  },
  {
   "cell_type": "code",
   "execution_count": 12,
   "metadata": {},
   "outputs": [
    {
     "name": "stdout",
     "output_type": "stream",
     "text": [
      "1\n",
      "\n",
      "7\n"
     ]
    }
   ],
   "source": [
    "# Array indexing is the same as accessing an array element.\n",
    "# You can access an array element by referring to its index number.\n",
    "# The indexes in NumPy arrays start with 0, meaning that the first element has index 0, and the second has index 1 etc.\n",
    "\n",
    "arr = np.array([1,2,3,4,5])\n",
    "print(arr[0])\n",
    "\n",
    "print()\n",
    "\n",
    "print(arr[2] + arr[3])"
   ]
  },
  {
   "cell_type": "code",
   "execution_count": 13,
   "metadata": {},
   "outputs": [
    {
     "name": "stdout",
     "output_type": "stream",
     "text": [
      "2nd element on 1st row:  2\n"
     ]
    }
   ],
   "source": [
    "arr = np.array([[1,2,3,4,5], [6,7,8,9,10]])\n",
    "\n",
    "print('2nd element on 1st row: ', arr[0, 1])"
   ]
  },
  {
   "cell_type": "code",
   "execution_count": 14,
   "metadata": {},
   "outputs": [
    {
     "name": "stdout",
     "output_type": "stream",
     "text": [
      "2nd element on 1st row:  2\n"
     ]
    }
   ],
   "source": [
    "arr = np.array([[[1,2,3,4,5], [6,7,8,9,10]]])\n",
    "\n",
    "print('2nd element on 1st row: ', arr[0, 0, 1])"
   ]
  },
  {
   "cell_type": "code",
   "execution_count": 15,
   "metadata": {},
   "outputs": [
    {
     "name": "stdout",
     "output_type": "stream",
     "text": [
      "6\n"
     ]
    }
   ],
   "source": [
    "arr = np.array([[[1, 2, 3], [4, 5, 6]], [[7, 8, 9], [10, 11, 12]]])\n",
    "print(arr[0, 1, 2])\n",
    "\n",
    "# arr[0, 1, 2] prints the value 6.\n",
    "\n",
    "# And this is why:\n",
    "\n",
    "# The first number represents the first dimension, which contains two arrays:\n",
    "# [[1, 2, 3], [4, 5, 6]]\n",
    "# and:\n",
    "# [[7, 8, 9], [10, 11, 12]]\n",
    "# Since we selected 0, we are left with the first array:\n",
    "# [[1, 2, 3], [4, 5, 6]]\n",
    "\n",
    "# The second number represents the second dimension, which also contains two arrays:\n",
    "# [1, 2, 3]\n",
    "# and:\n",
    "# [4, 5, 6]\n",
    "# Since we selected 1, we are left with the second array:\n",
    "# [4, 5, 6]\n",
    "\n",
    "# The third number represents the third dimension, which contains three values:\n",
    "# 4\n",
    "# 5\n",
    "# 6\n",
    "# Since we selected 2, we end up with the third value:\n",
    "# 6\n",
    "\n"
   ]
  },
  {
   "cell_type": "code",
   "execution_count": 16,
   "metadata": {},
   "outputs": [
    {
     "name": "stdout",
     "output_type": "stream",
     "text": [
      "Last element from 2nd dim:  10\n"
     ]
    }
   ],
   "source": [
    "arr = np.array([[1,2,3,4,5], [6,7,8,9,10]])\n",
    "print('Last element from 2nd dim: ', arr[1, -1])"
   ]
  },
  {
   "cell_type": "code",
   "execution_count": 17,
   "metadata": {},
   "outputs": [
    {
     "name": "stdout",
     "output_type": "stream",
     "text": [
      "[2 3 4 5]\n",
      "\n",
      "[5 6 7]\n",
      "\n",
      "[1 2 3 4]\n"
     ]
    }
   ],
   "source": [
    "arr = np.array([1, 2, 3, 4, 5, 6, 7])\n",
    "print(arr[1:5])\n",
    "\n",
    "print()\n",
    "\n",
    "arr = np.array([1, 2, 3, 4, 5, 6, 7])\n",
    "print(arr[4:])\n",
    "\n",
    "print()\n",
    "\n",
    "arr = np.array([1, 2, 3, 4, 5, 6, 7])\n",
    "print(arr[:4])"
   ]
  },
  {
   "cell_type": "code",
   "execution_count": 18,
   "metadata": {},
   "outputs": [
    {
     "name": "stdout",
     "output_type": "stream",
     "text": [
      "[5 6]\n",
      "\n",
      "[2 4]\n",
      "\n",
      "[7 8 9]\n"
     ]
    }
   ],
   "source": [
    "# negative slicing\n",
    "arr = np.array([1, 2, 3, 4, 5, 6, 7])\n",
    "print(arr[-3:-1])\n",
    "\n",
    "print()\n",
    "\n",
    "arr = np.array([1, 2, 3, 4, 5, 6, 7])\n",
    "print(arr[1:5:2])\n",
    "\n",
    "print()\n",
    "\n",
    "arr = np.array([[1, 2, 3, 4, 5], [6, 7, 8, 9, 10]])\n",
    "print(arr[1, 1:4])\n"
   ]
  },
  {
   "cell_type": "code",
   "execution_count": 19,
   "metadata": {},
   "outputs": [],
   "source": [
    "# Data Types in Python\n",
    "\n",
    "# strings - used to represent text data, the text is given under quote marks. e.g. \"ABCD\"\n",
    "# integer - used to represent integer numbers. e.g. -1, -2, -3\n",
    "# float - used to represent real numbers. e.g. 1.2, 42.42\n",
    "# boolean - used to represent True or False.\n",
    "# complex - used to represent complex numbers. e.g. 1.0 + 2.0j, 1.5 + 2.5j\n",
    "\n",
    "# Data Types in NumPy\n",
    "# NumPy has some extra data types, and refer to data types with one character, like i for integers, u for unsigned integers etc.\n",
    "\n",
    "# Below is a list of all data types in NumPy and the characters used to represent them.\n",
    "\n",
    "# i - integer\n",
    "# b - boolean\n",
    "# u - unsigned integer\n",
    "# f - float\n",
    "# c - complex float\n",
    "# m - timedelta\n",
    "# M - datetime\n",
    "# O - object\n",
    "# S - string\n",
    "# U - unicode string\n",
    "# V - fixed chunk of memory for other type ( void )"
   ]
  },
  {
   "cell_type": "code",
   "execution_count": 20,
   "metadata": {},
   "outputs": [
    {
     "name": "stdout",
     "output_type": "stream",
     "text": [
      "int32\n",
      "\n",
      "<U6\n",
      "\n",
      "[b'1' b'2' b'3' b'4']\n",
      "|S1\n",
      "\n",
      "[1 2 3 4]\n",
      "int32\n"
     ]
    }
   ],
   "source": [
    "arr = np.array([1, 2, 3, 4])\n",
    "print(arr.dtype)\n",
    "\n",
    "print()\n",
    "\n",
    "arr = np.array(['apple', 'carrot', 'banana', 'corn'])\n",
    "print(arr.dtype)\n",
    "\n",
    "print()\n",
    "\n",
    "arr = np.array([1, 2, 3, 4], dtype='S')\n",
    "print(arr)\n",
    "print(arr.dtype)\n",
    "\n",
    "print()\n",
    "\n",
    "arr = np.array([1, 2, 3, 4], dtype='i4')\n",
    "print(arr)\n",
    "print(arr.dtype)\n",
    "\n"
   ]
  },
  {
   "cell_type": "code",
   "execution_count": 21,
   "metadata": {},
   "outputs": [
    {
     "name": "stdout",
     "output_type": "stream",
     "text": [
      "[1 2 3 4]\n",
      "int32\n",
      "\n",
      "[1 2 3 4 0]\n",
      "int32\n",
      "\n",
      "[ True  True  True  True False]\n",
      "bool\n"
     ]
    }
   ],
   "source": [
    "# The best way to change the data type of an existing array, is to make a copy of the array with the astype() method.\n",
    "# The astype() function creates a copy of the array, and allows you to specify the data type as a parameter.\n",
    "# The data type can be specified using a string, like 'f' for float, 'i' for integer etc. \n",
    "# or you can use the data type directly like float for float and int for integer.\n",
    "\n",
    "arr = np.array([1.1, 2.2, 3.8, 4.5])\n",
    "newarr = arr.astype('i')\n",
    "print(newarr)\n",
    "print(newarr.dtype)\n",
    "\n",
    "print()\n",
    "\n",
    "arr = np.array([1.1, 2.2, 3.8, 4.5, 0.0])\n",
    "newarr = arr.astype(int)\n",
    "print(newarr)\n",
    "print(newarr.dtype)\n",
    "\n",
    "print()\n",
    "\n",
    "newarr1 = newarr.astype(bool)\n",
    "print(newarr1)\n",
    "print(newarr1.dtype)"
   ]
  },
  {
   "cell_type": "code",
   "execution_count": 22,
   "metadata": {},
   "outputs": [
    {
     "name": "stdout",
     "output_type": "stream",
     "text": [
      "[42  2  3  4  5]\n",
      "[1 2 3 4 5]\n",
      "\n",
      "[42  2  3  4  5]\n",
      "[42  2  3  4  5]\n"
     ]
    }
   ],
   "source": [
    "# The main difference between a copy and a view of an array is that the copy is a new array, and the view is just a view of the original array.\n",
    "# The copy owns the data and any changes made to the copy will not affect original array, \n",
    "# and any changes made to the original array will not affect the copy.\n",
    "# The view does not own the data and any changes made to the view will affect the original array, \n",
    "# and any changes made to the original array will affect the view.\n",
    "\n",
    "arr = np.array([1, 2, 3, 4, 5])\n",
    "x = arr.copy()\n",
    "arr[0] = 42\n",
    "\n",
    "print(arr)\n",
    "print(x)\n",
    "\n",
    "print()\n",
    "\n",
    "arr = np.array([1, 2, 3, 4, 5])\n",
    "x = arr.view()\n",
    "arr[0] = 42\n",
    "\n",
    "print(arr)\n",
    "print(x)"
   ]
  },
  {
   "cell_type": "code",
   "execution_count": 23,
   "metadata": {},
   "outputs": [
    {
     "name": "stdout",
     "output_type": "stream",
     "text": [
      "[54  2  3  4  5]\n",
      "[54  2  3  4  5]\n",
      "\n",
      "[1 2 3 4 5]\n",
      "[54  2  3  4  5]\n"
     ]
    }
   ],
   "source": [
    "arr = np.array([1, 2, 3, 4, 5])\n",
    "x = arr.view()\n",
    "x[0] = 54\n",
    "\n",
    "print(arr)\n",
    "print(x)\n",
    "\n",
    "print()\n",
    "\n",
    "arr = np.array([1, 2, 3, 4, 5])\n",
    "x = arr.copy()\n",
    "x[0] = 54\n",
    "\n",
    "print(arr)\n",
    "print(x)"
   ]
  },
  {
   "cell_type": "code",
   "execution_count": 24,
   "metadata": {},
   "outputs": [
    {
     "name": "stdout",
     "output_type": "stream",
     "text": [
      "None\n",
      "[1 2 3 4 5]\n"
     ]
    }
   ],
   "source": [
    "# As mentioned above, copies owns the data, and views does not own the data, but how can we check this?\n",
    "# Every NumPy array has the attribute base that returns None if the array owns the data.\n",
    "# Otherwise, the base  attribute refers to the original object.\n",
    "\n",
    "arr = np.array([1, 2, 3, 4, 5])\n",
    "x = arr.copy()\n",
    "y = arr.view()\n",
    "\n",
    "print(x.base)\n",
    "print(y.base)"
   ]
  },
  {
   "cell_type": "code",
   "execution_count": 25,
   "metadata": {},
   "outputs": [
    {
     "name": "stdout",
     "output_type": "stream",
     "text": [
      "(2, 4)\n",
      "\n",
      "[[[[[1 2 3 4]]]]]\n",
      "shape of array : (1, 1, 1, 1, 4)\n"
     ]
    }
   ],
   "source": [
    "arr = np.array([[1, 2, 3, 4], [5, 6, 7, 8]])\n",
    "print(arr.shape)\n",
    "\n",
    "# the result (2,4) means it is a 2 dimension array with four elements in each of them\n",
    "\n",
    "print()\n",
    "\n",
    "# arr = np.array([[1, 2, 3], [5, 6, 7, 8]])\n",
    "# print(arr.shape)\n",
    "\n",
    "arr = np.array([1, 2, 3, 4], ndmin=5)\n",
    "print(arr)\n",
    "print('shape of array :', arr.shape)"
   ]
  },
  {
   "cell_type": "code",
   "execution_count": 26,
   "metadata": {},
   "outputs": [
    {
     "name": "stdout",
     "output_type": "stream",
     "text": [
      "[[ 1  2  3]\n",
      " [ 4  5  6]\n",
      " [ 7  8  9]\n",
      " [10 11 12]]\n",
      "\n",
      "[[ 1  2  3  4]\n",
      " [ 5  6  7  8]\n",
      " [ 9 10 11 12]]\n"
     ]
    }
   ],
   "source": [
    "# Reshaping arrays\n",
    "# Reshaping means changing the shape of an array.\n",
    "# The shape of an array is the number of elements in each dimension.\n",
    "# By reshaping we can add or remove dimensions or change number of elements in each dimension\n",
    "\n",
    "arr = np.array([1, 2, 3, 4, 5, 6, 7, 8, 9, 10, 11, 12])\n",
    "newarr = arr.reshape(4, 3)\n",
    "print(newarr)\n",
    "\n",
    "print()\n",
    "\n",
    "arr = np.array([1, 2, 3, 4, 5, 6, 7, 8, 9, 10, 11, 12])\n",
    "newarr = arr.reshape(3, 4)\n",
    "print(newarr)"
   ]
  },
  {
   "cell_type": "code",
   "execution_count": 27,
   "metadata": {},
   "outputs": [
    {
     "name": "stdout",
     "output_type": "stream",
     "text": [
      "[[[ 1  2]\n",
      "  [ 3  4]\n",
      "  [ 5  6]]\n",
      "\n",
      " [[ 7  8]\n",
      "  [ 9 10]\n",
      "  [11 12]]]\n",
      "3\n",
      "\n",
      "[1 2 3 4 5 6 7 8]\n",
      "\n",
      "[[[1 2]\n",
      "  [3 4]]\n",
      "\n",
      " [[5 6]\n",
      "  [7 8]]]\n",
      "[[[ 1  2  3]\n",
      "  [ 4  5  6]]\n",
      "\n",
      " [[ 7  8  9]\n",
      "  [10 11 12]]]\n",
      "\n",
      "[1 2 3 4 5 6]\n"
     ]
    }
   ],
   "source": [
    "arr = np.array([1, 2, 3, 4, 5, 6, 7, 8, 9, 10, 11, 12])\n",
    "newarr = arr.reshape(2, 3, 2)   # it will have 2 arrays plus 3 arrays plus 2 elements that makes up the 3 arrays\n",
    "print(newarr)\n",
    "print(newarr.ndim)\n",
    "\n",
    "print()\n",
    "\n",
    "arr = np.array([1, 2, 3, 4, 5, 6, 7, 8])\n",
    "print(arr.reshape(2, 4).base)\n",
    "\n",
    "print()\n",
    "\n",
    "arr = np.array([1, 2, 3, 4, 5, 6, 7, 8])\n",
    "newarr = arr.reshape(2, 2, -1)\n",
    "print(newarr)\n",
    "# The original array has 8 elements.\n",
    "# reshape(2, 2, -1) means:\n",
    "# First dimension: 2\n",
    "# Second dimension: 2\n",
    "# Third dimension: NumPy calculates it as 8 / (2 * 2) = 2\n",
    "# So, the resulting shape will be (2, 2, 2).\n",
    "\n",
    "arr = np.array([1, 2, 3, 4, 5, 6, 7, 8, 9, 10, 11, 12])\n",
    "newarr = arr.reshape(2, 2, -1)\n",
    "print(newarr)\n",
    "\n",
    "print()\n",
    "\n",
    "# to convert a multidimensional array to 1-D we use .reshape(-1)\n",
    "arr = np.array([[1, 2, 3], [4, 5, 6]])\n",
    "newarr = arr.reshape(-1)\n",
    "print(newarr)"
   ]
  },
  {
   "cell_type": "code",
   "execution_count": 28,
   "metadata": {},
   "outputs": [
    {
     "name": "stdout",
     "output_type": "stream",
     "text": [
      "1\n",
      "2\n",
      "3\n",
      "4\n",
      "5\n",
      "6\n",
      "\n",
      "[1 2 3]\n",
      "[4 5 6]\n",
      "\n",
      "1\n",
      "2\n",
      "3\n",
      "4\n",
      "5\n",
      "6\n",
      "\n",
      "[[1 2 3]\n",
      " [4 5 6]]\n",
      "[[ 7  8  9]\n",
      " [10 11 12]]\n",
      "\n",
      "1\n",
      "2\n",
      "3\n",
      "4\n",
      "5\n",
      "6\n",
      "7\n",
      "8\n",
      "9\n",
      "10\n",
      "11\n",
      "12\n",
      "7\n",
      "8\n",
      "9\n",
      "10\n",
      "11\n",
      "12\n"
     ]
    }
   ],
   "source": [
    "# to iterate numpy arrays we use 'for' loop\n",
    "\n",
    "arr = np.array([1, 2, 3, 4, 5, 6])\n",
    "for x in arr:\n",
    "  print(x)\n",
    "\n",
    "print()\n",
    "\n",
    "arr = np.array([[1, 2, 3], [4, 5, 6]])\n",
    "for x in arr:\n",
    "  print(x)\n",
    "\n",
    "print()\n",
    "\n",
    "arr = np.array([[1, 2, 3], [4, 5, 6]])\n",
    "for x in arr:\n",
    "  for y in x:\n",
    "    print(y)\n",
    "\n",
    "print()\n",
    "\n",
    "arr = np.array([[[1, 2, 3], [4, 5, 6]], [[7, 8, 9], [10, 11, 12]]])\n",
    "for x in arr:\n",
    "  print(x)\n",
    "\n",
    "print()\n",
    "\n",
    "arr = np.array([[[1, 2, 3], [4, 5, 6]], [[7, 8, 9], [10, 11, 12]], [[7, 8, 9], [10, 11, 12]]])\n",
    "for x in arr:\n",
    "  for y in x:\n",
    "    for z in y:\n",
    "      print(z)"
   ]
  },
  {
   "cell_type": "code",
   "execution_count": 29,
   "metadata": {},
   "outputs": [
    {
     "name": "stdout",
     "output_type": "stream",
     "text": [
      "1\n",
      "2\n",
      "3\n",
      "4\n",
      "5\n",
      "6\n",
      "7\n",
      "8\n",
      "\n",
      "b'1'\n",
      "b'2'\n",
      "b'3'\n",
      "\n",
      "1\n",
      "3\n",
      "5\n",
      "7\n"
     ]
    }
   ],
   "source": [
    "# .nditer gives the full results without having to go through the stress of for x, for y, for z,...\n",
    "arr = np.array([[[1, 2], [3, 4]], [[5, 6], [7, 8]]])\n",
    "for x in np.nditer(arr):\n",
    "  print(x)\n",
    "\n",
    "print()\n",
    "\n",
    "arr = np.array([1, 2, 3])\n",
    "for x in np.nditer(arr, flags=['buffered'], op_dtypes=['S']):\n",
    "  print(x)\n",
    "\n",
    "print()\n",
    "\n",
    "arr = np.array([[1, 2, 3, 4], [5, 6, 7, 8]])\n",
    "for x in np.nditer(arr[:, ::2]):\n",
    "  print(x)"
   ]
  },
  {
   "cell_type": "code",
   "execution_count": 30,
   "metadata": {},
   "outputs": [
    {
     "name": "stdout",
     "output_type": "stream",
     "text": [
      "(0,) 1\n",
      "(1,) 2\n",
      "(2,) 3\n",
      "\n",
      "(0, 0) 1\n",
      "(0, 1) 2\n",
      "(0, 2) 3\n",
      "(0, 3) 4\n",
      "(1, 0) 5\n",
      "(1, 1) 6\n",
      "(1, 2) 7\n",
      "(1, 3) 8\n"
     ]
    }
   ],
   "source": [
    "# to get the order of each element in the array we use .ndenumerate\n",
    "arr = np.array([1, 2, 3])\n",
    "for idx, x in np.ndenumerate(arr):\n",
    "  print(idx, x)\n",
    "\n",
    "print()\n",
    "\n",
    "arr = np.array([[1, 2, 3, 4], [5, 6, 7, 8]])\n",
    "for idx, x in np.ndenumerate(arr):\n",
    "  print(idx, x)"
   ]
  },
  {
   "cell_type": "code",
   "execution_count": 31,
   "metadata": {},
   "outputs": [
    {
     "name": "stdout",
     "output_type": "stream",
     "text": [
      "[1 2 3 4 5 6 7 8 9]\n",
      "\n",
      "[[1 2 5 6]\n",
      " [3 4 7 8]]\n"
     ]
    }
   ],
   "source": [
    "# to join arrays we use .concatenate function like as of python or excel\n",
    "arr1 = np.array([1, 2, 3])\n",
    "arr2 = np.array([4, 5, 6])\n",
    "arr3 = np.array([7, 8, 9])\n",
    "arr = np.concatenate((arr1, arr2, arr3))\n",
    "print(arr)\n",
    "\n",
    "print()\n",
    "\n",
    "arr1 = np.array([[1, 2], [3, 4]])\n",
    "arr2 = np.array([[5, 6], [7, 8]])\n",
    "arr = np.concatenate((arr1, arr2), axis=1)\n",
    "print(arr)"
   ]
  },
  {
   "cell_type": "code",
   "execution_count": 32,
   "metadata": {},
   "outputs": [
    {
     "name": "stdout",
     "output_type": "stream",
     "text": [
      "[[1 4]\n",
      " [2 5]\n",
      " [3 6]]\n"
     ]
    }
   ],
   "source": [
    "arr1 = np.array([1, 2, 3])\n",
    "arr2 = np.array([4, 5, 6])\n",
    "arr = np.stack((arr1, arr2), axis=1)\n",
    "print(arr)"
   ]
  },
  {
   "cell_type": "code",
   "execution_count": 33,
   "metadata": {},
   "outputs": [
    {
     "name": "stdout",
     "output_type": "stream",
     "text": [
      "[1 2 3 4 5 6]\n"
     ]
    }
   ],
   "source": [
    "arr1 = np.array([1, 2, 3])\n",
    "arr2 = np.array([4, 5, 6])\n",
    "arr = np.hstack((arr1, arr2))\n",
    "print(arr)"
   ]
  },
  {
   "cell_type": "code",
   "execution_count": 34,
   "metadata": {},
   "outputs": [
    {
     "name": "stdout",
     "output_type": "stream",
     "text": [
      "[[1 2 3]\n",
      " [4 5 6]]\n"
     ]
    }
   ],
   "source": [
    "arr1 = np.array([1, 2, 3])\n",
    "arr2 = np.array([4, 5, 6])\n",
    "arr = np.vstack((arr1, arr2))\n",
    "print(arr)"
   ]
  },
  {
   "cell_type": "code",
   "execution_count": 35,
   "metadata": {},
   "outputs": [
    {
     "name": "stdout",
     "output_type": "stream",
     "text": [
      "[[[1 4 4]\n",
      "  [2 5 5]\n",
      "  [3 6 6]]]\n"
     ]
    }
   ],
   "source": [
    "arr1 = np.array([1, 2, 3])\n",
    "arr2 = np.array([4, 5, 6])\n",
    "arr3 = np.array([4, 5, 6])\n",
    "arr = np.dstack((arr1, arr2, arr3))\n",
    "print(arr)\n"
   ]
  },
  {
   "cell_type": "code",
   "execution_count": 36,
   "metadata": {},
   "outputs": [
    {
     "name": "stdout",
     "output_type": "stream",
     "text": [
      "[array([1, 2]), array([3, 4]), array([5, 6])]\n"
     ]
    }
   ],
   "source": [
    "arr = np.array([1, 2, 3, 4, 5, 6])\n",
    "newarr = np.array_split(arr, 3)\n",
    "print(newarr)"
   ]
  },
  {
   "cell_type": "code",
   "execution_count": 37,
   "metadata": {},
   "outputs": [
    {
     "name": "stdout",
     "output_type": "stream",
     "text": [
      "[array([1, 2]), array([3, 4]), array([5, 6]), array([7])]\n",
      "\n",
      "[1 2]\n",
      "[3 4]\n",
      "[5 6]\n"
     ]
    }
   ],
   "source": [
    "arr = np.array([1, 2, 3, 4, 5, 6, 7])\n",
    "newarr = np.array_split(arr, 4)\n",
    "print(newarr)\n",
    "\n",
    "print()\n",
    "\n",
    "arr = np.array([1, 2, 3, 4, 5, 6])\n",
    "newarr = np.array_split(arr, 3)\n",
    "print(newarr[0])\n",
    "print(newarr[1])\n",
    "print(newarr[2])"
   ]
  },
  {
   "cell_type": "code",
   "execution_count": 38,
   "metadata": {},
   "outputs": [
    {
     "name": "stdout",
     "output_type": "stream",
     "text": [
      "[array([[1, 2],\n",
      "       [3, 4]]), array([[5, 6],\n",
      "       [7, 8]]), array([[ 9, 10],\n",
      "       [11, 12]])]\n",
      "\n",
      "[array([[ 1],\n",
      "       [ 4],\n",
      "       [ 7],\n",
      "       [10],\n",
      "       [13],\n",
      "       [16]]), array([[ 2],\n",
      "       [ 5],\n",
      "       [ 8],\n",
      "       [11],\n",
      "       [14],\n",
      "       [17]]), array([[ 3],\n",
      "       [ 6],\n",
      "       [ 9],\n",
      "       [12],\n",
      "       [15],\n",
      "       [18]])]\n",
      "\n",
      "[array([[ 1],\n",
      "       [ 4],\n",
      "       [ 7],\n",
      "       [10],\n",
      "       [13],\n",
      "       [16]]), array([[ 2],\n",
      "       [ 5],\n",
      "       [ 8],\n",
      "       [11],\n",
      "       [14],\n",
      "       [17]]), array([[ 3],\n",
      "       [ 6],\n",
      "       [ 9],\n",
      "       [12],\n",
      "       [15],\n",
      "       [18]])]\n"
     ]
    }
   ],
   "source": [
    "arr = np.array([[1, 2], [3, 4], [5, 6], [7, 8], [9, 10], [11, 12]])\n",
    "newarr = np.array_split(arr, 3)\n",
    "print(newarr)\n",
    "\n",
    "print()\n",
    "\n",
    "arr = np.array([[1, 2, 3], [4, 5, 6], [7, 8, 9], [10, 11, 12], [13, 14, 15], [16, 17, 18]])\n",
    "newarr = np.hsplit(arr, 3)\n",
    "print(newarr)\n",
    "\n",
    "print()\n",
    "\n",
    "arr = np.array([[1, 2, 3], [4, 5, 6], [7, 8, 9], [10, 11, 12], [13, 14, 15], [16, 17, 18]])\n",
    "newarr = np.array_split(arr, 3, axis=1)\n",
    "print(newarr)\n"
   ]
  },
  {
   "cell_type": "code",
   "execution_count": 39,
   "metadata": {},
   "outputs": [
    {
     "name": "stdout",
     "output_type": "stream",
     "text": [
      "(array([3, 5, 6], dtype=int64),)\n",
      "(array([1, 3, 5, 7], dtype=int64),)\n",
      "(array([0, 2, 4, 6], dtype=int64),)\n"
     ]
    }
   ],
   "source": [
    "# to search an array we use the ,where method\n",
    "arr = np.array([1, 2, 3, 4, 5, 4, 4])\n",
    "x = np.where(arr == 4)\n",
    "print(x)\n",
    "\n",
    "# the result means that the value 4 is present at index 3, 5, and 6.\n",
    "\n",
    "arr = np.array([1, 2, 3, 4, 5, 6, 7, 8])\n",
    "x = np.where(arr%2 == 0)\n",
    "print(x)\n",
    "\n",
    "arr = np.array([1, 2, 3, 4, 5, 6, 7, 8])\n",
    "x = np.where(arr%2 == 1)\n",
    "print(x)"
   ]
  },
  {
   "cell_type": "code",
   "execution_count": 40,
   "metadata": {},
   "outputs": [
    {
     "name": "stdout",
     "output_type": "stream",
     "text": [
      "1\n",
      "0\n",
      "\n",
      "2\n",
      "[2 3 4]\n"
     ]
    }
   ],
   "source": [
    "# There is a method called searchsorted() which performs a binary search in the array, \n",
    "# and returns the index where the specified value would be inserted to maintain the search order.\n",
    "arr = np.array([6, 7, 8, 9])\n",
    "x = np.searchsorted(arr, 7)\n",
    "print(x)\n",
    "\n",
    "arr = np.array([6, 7, 8, 9])\n",
    "x = np.searchsorted(arr, 5)\n",
    "print(x)\n",
    "\n",
    "# The number 7 should be inserted on index 1 to remain the sort order.\n",
    "# The method starts the search from the left and returns the first index where the number 7 is no longer larger than the next value.\n",
    "\n",
    "print()\n",
    "\n",
    "# By default the left most index is returned, but we can give side='right' to return the right most index instead.\n",
    "arr = np.array([6, 7, 8, 9])\n",
    "x = np.searchsorted(arr, 8)#side='right')\n",
    "print(x)\n",
    "\n",
    "arr = np.array([1, 3, 5, 7])\n",
    "x = np.searchsorted(arr, [4, 6, 8])\n",
    "print(x)\n"
   ]
  },
  {
   "cell_type": "code",
   "execution_count": 41,
   "metadata": {},
   "outputs": [
    {
     "name": "stdout",
     "output_type": "stream",
     "text": [
      "[0 2 3 5]\n",
      "['apple' 'banana' 'cherry' 'mango' 'zeal']\n",
      "[False False  True  True  True]\n",
      "[[2 3 4]\n",
      " [0 1 5]]\n"
     ]
    }
   ],
   "source": [
    "# Sorting means putting elements in an ordered sequence.\n",
    "# we use ,sort to sort in munpy\n",
    "arr = np.array([3, 5, 2, 0])\n",
    "print(np.sort(arr))\n",
    "\n",
    "arr = np.array(['banana', 'cherry', 'apple', 'zeal', 'mango'])\n",
    "print(np.sort(arr))\n",
    "\n",
    "arr = np.array([True, False, True, True, False])\n",
    "print(np.sort(arr))\n",
    "\n",
    "arr = np.array([[3, 2, 4], [5, 0, 1]])\n",
    "print(np.sort(arr))\n"
   ]
  },
  {
   "cell_type": "code",
   "execution_count": 42,
   "metadata": {},
   "outputs": [
    {
     "name": "stdout",
     "output_type": "stream",
     "text": [
      "[False, False, True, True]\n",
      "[43 44]\n"
     ]
    }
   ],
   "source": [
    "import numpy as np\n",
    "\n",
    "arr = np.array([41, 42, 43, 44])\n",
    "\n",
    "# Create an empty list\n",
    "filter_arr = []\n",
    "\n",
    "# go through each element in arr\n",
    "for element in arr:\n",
    "  # if the element is higher than 42, set the value to True, otherwise False:\n",
    "  if element > 42:\n",
    "    filter_arr.append(True)\n",
    "  else:\n",
    "    filter_arr.append(False)\n",
    "\n",
    "newarr = arr[filter_arr]\n",
    "\n",
    "print(filter_arr)\n",
    "print(newarr)"
   ]
  },
  {
   "cell_type": "code",
   "execution_count": 43,
   "metadata": {},
   "outputs": [
    {
     "name": "stdout",
     "output_type": "stream",
     "text": [
      "[False, True, False, True, False, True, False]\n",
      "[2 4 6]\n"
     ]
    }
   ],
   "source": [
    "arr = np.array([1, 2, 3, 4, 5, 6, 7])\n",
    "\n",
    "# Create an empty list\n",
    "filter_arr = []\n",
    "\n",
    "# go through each element in arr\n",
    "for element in arr:\n",
    "  # if the element is completely divisble by 2, set the value to True, otherwise False\n",
    "  if element % 2 == 0:\n",
    "    filter_arr.append(True)\n",
    "  else:\n",
    "    filter_arr.append(False)\n",
    "\n",
    "newarr = arr[filter_arr]\n",
    "\n",
    "print(filter_arr)\n",
    "print(newarr)"
   ]
  },
  {
   "cell_type": "code",
   "execution_count": 44,
   "metadata": {},
   "outputs": [
    {
     "name": "stdout",
     "output_type": "stream",
     "text": [
      "[False False  True  True]\n",
      "[43 44]\n",
      "\n",
      "[False  True False  True False  True False]\n",
      "[2 4 6]\n"
     ]
    }
   ],
   "source": [
    "arr = np.array([41, 42, 43, 44])\n",
    "\n",
    "filter_arr = arr > 42\n",
    "\n",
    "newarr = arr[filter_arr]\n",
    "\n",
    "print(filter_arr)\n",
    "print(newarr)\n",
    "\n",
    "print()\n",
    "\n",
    "arr = np.array([1, 2, 3, 4, 5, 6, 7])\n",
    "\n",
    "filter_arr = arr % 2 == 0\n",
    "\n",
    "newarr = arr[filter_arr]\n",
    "\n",
    "print(filter_arr)\n",
    "print(newarr)"
   ]
  },
  {
   "cell_type": "code",
   "execution_count": 45,
   "metadata": {},
   "outputs": [
    {
     "name": "stdout",
     "output_type": "stream",
     "text": [
      "8\n",
      "0.4730843010213309\n"
     ]
    }
   ],
   "source": [
    "# to generate a random integer from 0 to 100\n",
    "x = random.randint(100)\n",
    "print(x)\n",
    "\n",
    "# to generate reandom float between 0 and 1 we use rand\n",
    "x = random.rand()\n",
    "print(x)"
   ]
  },
  {
   "cell_type": "code",
   "execution_count": 46,
   "metadata": {},
   "outputs": [
    {
     "name": "stdout",
     "output_type": "stream",
     "text": [
      "[42  8 44 53 87]\n",
      "\n",
      "[[34 22 13 82 65]\n",
      " [17 91 34 94 42]\n",
      " [49 85 37 14 45]]\n"
     ]
    }
   ],
   "source": [
    "x=random.randint(100, size=(5))\n",
    "print(x)\n",
    "\n",
    "print()\n",
    "\n",
    "x=random.randint(100, size=(3, 5))\n",
    "print(x)"
   ]
  },
  {
   "cell_type": "code",
   "execution_count": 47,
   "metadata": {},
   "outputs": [
    {
     "name": "stdout",
     "output_type": "stream",
     "text": [
      "51\n",
      "\n",
      "[[7 3 3 5 5]\n",
      " [7 3 5 3 5]\n",
      " [7 3 7 7 5]]\n"
     ]
    }
   ],
   "source": [
    "# The choice() method allows you to generate a random value based on an array of values.\n",
    "# The choice() method takes an array as a parameter and randomly returns one of the values.\n",
    "\n",
    "x = random.choice([27, 6, 59, 48, 51])\n",
    "print(x)\n",
    "\n",
    "print()\n",
    "\n",
    "x = random.choice([3, 5, 7, 9], size=(3, 5))\n",
    "print(x)"
   ]
  },
  {
   "cell_type": "code",
   "execution_count": 48,
   "metadata": {},
   "outputs": [],
   "source": [
    "# We can generate random numbers based on defined probabilities using the choice() method of the random module.\n",
    "\n",
    "# The choice() method allows us to specify the probability for each value.\n",
    "\n",
    "# The probability is set by a number between 0 and 1, where 0 means that the value will never occur and 1 means that the value will always occur.\n",
    "\n",
    "# ExampleGet your own Python Server\n",
    "# Generate a 1-D array containing 100 values, where each value has to be 3, 5, 7 or 9.\n",
    "\n",
    "# The probability for the value to be 3 is set to be 0.1\n",
    "\n",
    "# The probability for the value to be 5 is set to be 0.3\n",
    "\n",
    "# The probability for the value to be 7 is set to be 0.6\n",
    "\n",
    "# The probability for the value to be 9 is set to be 0"
   ]
  },
  {
   "cell_type": "code",
   "execution_count": 49,
   "metadata": {},
   "outputs": [
    {
     "name": "stdout",
     "output_type": "stream",
     "text": [
      "[5 7 7 7 5 3 7 7 5 7 7 3 7 7 5 7 7 7 7 7 7 5 5 5 7 7 7 5 7 7 7 5 5 7 3 5 7\n",
      " 5 5 7 5 7 7 3 5 5 7 3 7 7 7 7 7 7 7 7 7 7 7 5 7 5 7 7 5 7 7 7 7 7 7 5 7 7\n",
      " 7 5 7 7 5 7 7 5 7 5 7 7 7 7 7 5 7 7 5 7 7 7 7 7 7 5]\n"
     ]
    }
   ],
   "source": [
    "x = random.choice([3, 5, 7, 9], p=[0.1, 0.3, 0.6, 0.0], size=(100))\n",
    "print(x)"
   ]
  },
  {
   "cell_type": "code",
   "execution_count": 50,
   "metadata": {},
   "outputs": [
    {
     "name": "stdout",
     "output_type": "stream",
     "text": [
      "[[5 7 5 7 7]\n",
      " [5 7 7 7 7]\n",
      " [3 7 7 7 5]]\n"
     ]
    }
   ],
   "source": [
    "x = random.choice([3, 5, 7, 9], p=[0.1, 0.3, 0.6, 0.0], size=(3, 5))\n",
    "print(x)"
   ]
  },
  {
   "cell_type": "code",
   "execution_count": 51,
   "metadata": {},
   "outputs": [],
   "source": [
    "# Random Permutations of Elements\n",
    "# A permutation refers to an arrangement of elements. e.g. [3, 2, 1] is a permutation of [1, 2, 3] and vice-versa.\n",
    "\n",
    "# The NumPy Random module provides two methods for this: shuffle() and permutation().\n",
    "\n",
    "# Shuffling Arrays\n",
    "# Shuffle means changing arrangement of elements in-place. i.e. in the array itself."
   ]
  },
  {
   "cell_type": "code",
   "execution_count": 52,
   "metadata": {},
   "outputs": [
    {
     "name": "stdout",
     "output_type": "stream",
     "text": [
      "[5 2 3 4 1]\n",
      "\n",
      "[4 5 3 2 1]\n",
      "[1 2 3 4 5]\n"
     ]
    }
   ],
   "source": [
    "arr = np.array([1, 2, 3, 4, 5])\n",
    "random.shuffle(arr)\n",
    "print(arr)\n",
    "\n",
    "print()\n",
    "\n",
    "arr = np.array([1, 2, 3, 4, 5])\n",
    "perm = random.permutation(arr)\n",
    "print(perm)\n",
    "print(arr)\n",
    "\n",
    "# The shuffle() method makes changes to the original array.\n",
    "# The permutation() method returns a re-arranged array (and leaves the original array un-changed)."
   ]
  },
  {
   "cell_type": "code",
   "execution_count": 53,
   "metadata": {},
   "outputs": [
    {
     "name": "stderr",
     "output_type": "stream",
     "text": [
      "C:\\Users\\NELSON ESTHER\\AppData\\Local\\Temp\\ipykernel_6916\\1138594208.py:4: UserWarning: \n",
      "\n",
      "`distplot` is a deprecated function and will be removed in seaborn v0.14.0.\n",
      "\n",
      "Please adapt your code to use either `displot` (a figure-level function with\n",
      "similar flexibility) or `histplot` (an axes-level function for histograms).\n",
      "\n",
      "For a guide to updating your code to use the new functions, please see\n",
      "https://gist.github.com/mwaskom/de44147ed2974457ad6372750bbe5751\n",
      "\n",
      "  sns.distplot([0, 1, 2, 3, 4, 5])\n"
     ]
    },
    {
     "data": {
      "image/png": "[encoded data removed]",
      "text/plain": [
       "<Figure size 640x480 with 1 Axes>"
      ]
     },
     "metadata": {},
     "output_type": "display_data"
    }
   ],
   "source": [
    "import matplotlib.pyplot as plt\n",
    "import seaborn as sns\n",
    "\n",
    "sns.distplot([0, 1, 2, 3, 4, 5])\n",
    "\n",
    "plt.show()\n"
   ]
  },
  {
   "cell_type": "code",
   "execution_count": 54,
   "metadata": {},
   "outputs": [
    {
     "name": "stderr",
     "output_type": "stream",
     "text": [
      "C:\\Users\\NELSON ESTHER\\AppData\\Local\\Temp\\ipykernel_6916\\1097224426.py:1: UserWarning: \n",
      "\n",
      "`distplot` is a deprecated function and will be removed in seaborn v0.14.0.\n",
      "\n",
      "Please adapt your code to use either `displot` (a figure-level function with\n",
      "similar flexibility) or `kdeplot` (an axes-level function for kernel density plots).\n",
      "\n",
      "For a guide to updating your code to use the new functions, please see\n",
      "https://gist.github.com/mwaskom/de44147ed2974457ad6372750bbe5751\n",
      "\n",
      "  sns.distplot([0, 1, 2, 3, 4, 5], hist=False)\n"
     ]
    },
    {
     "data": {
      "image/png": "[encoded data removed]",
      "text/plain": [
       "<Figure size 640x480 with 1 Axes>"
      ]
     },
     "metadata": {},
     "output_type": "display_data"
    }
   ],
   "source": [
    "sns.distplot([0, 1, 2, 3, 4, 5], hist=False)\n",
    "\n",
    "plt.show()"
   ]
  },
  {
   "cell_type": "code",
   "execution_count": 55,
   "metadata": {},
   "outputs": [],
   "source": [
    "# The Normal Distribution is one of the most important distributions.\n",
    "\n",
    "# It is also called the Gaussian Distribution after the German mathematician Carl Friedrich Gauss.\n",
    "\n",
    "# It fits the probability distribution of many events, eg. IQ Scores, Heartbeat etc.\n",
    "\n",
    "# Use the random.normal() method to get a Normal Data Distribution.\n",
    "\n",
    "# It has three parameters:\n",
    "\n",
    "# loc - (Mean) where the peak of the bell exists.\n",
    "\n",
    "# scale - (Standard Deviation) how flat the graph distribution should be.\n",
    "# #\n",
    "# size - The shape of the returned array."
   ]
  },
  {
   "cell_type": "code",
   "execution_count": 56,
   "metadata": {},
   "outputs": [
    {
     "name": "stdout",
     "output_type": "stream",
     "text": [
      "[[-1.81520847 -0.47148057  1.66854534]\n",
      " [-0.02189622  2.09971089  0.00600342]]\n",
      "\n",
      "[[ 0.62587294  3.65702041  2.05332602]\n",
      " [ 0.21295191 -1.57774619  0.30527973]]\n"
     ]
    }
   ],
   "source": [
    "x = random.normal(size=(2, 3))\n",
    "print(x)\n",
    "\n",
    "print()\n",
    "\n",
    "x = random.normal(loc=1, scale=2, size=(2, 3))\n",
    "print(x)\n",
    "\n"
   ]
  },
  {
   "cell_type": "code",
   "execution_count": 57,
   "metadata": {},
   "outputs": [
    {
     "name": "stderr",
     "output_type": "stream",
     "text": [
      "C:\\Users\\NELSON ESTHER\\AppData\\Local\\Temp\\ipykernel_6916\\4119326688.py:1: UserWarning: \n",
      "\n",
      "`distplot` is a deprecated function and will be removed in seaborn v0.14.0.\n",
      "\n",
      "Please adapt your code to use either `displot` (a figure-level function with\n",
      "similar flexibility) or `kdeplot` (an axes-level function for kernel density plots).\n",
      "\n",
      "For a guide to updating your code to use the new functions, please see\n",
      "https://gist.github.com/mwaskom/de44147ed2974457ad6372750bbe5751\n",
      "\n",
      "  sns.distplot(random.normal(size=1000), hist=False)\n"
     ]
    },
    {
     "data": {
      "image/png": "[encoded data removed]",
      "text/plain": [
       "<Figure size 640x480 with 1 Axes>"
      ]
     },
     "metadata": {},
     "output_type": "display_data"
    }
   ],
   "source": [
    "sns.distplot(random.normal(size=1000), hist=False)\n",
    "\n",
    "plt.show()"
   ]
  },
  {
   "cell_type": "code",
   "execution_count": 58,
   "metadata": {},
   "outputs": [],
   "source": [
    "# Binomial Distribution is a Discrete Distribution.\n",
    "# It describes the outcome of binary scenarios, e.g. toss of a coin, it will either be head or tails.\n",
    "# It has three parameters:\n",
    "# n - number of trials.\n",
    "# p - probability of occurence of each trial (e.g. for toss of a coin 0.5 each).\n",
    "# size - The shape of the returned array.\n",
    "# Discrete Distribution:The distribution is defined at separate set of events, \n",
    "# e.g. a coin toss's result is discrete as it can be only head or tails whereas height of people is continuous as it can be 170, 170.1, 170.11 and so on."
   ]
  },
  {
   "cell_type": "code",
   "execution_count": 59,
   "metadata": {},
   "outputs": [
    {
     "name": "stdout",
     "output_type": "stream",
     "text": [
      "[5 6 4 8 5 1 3 6 4 5]\n"
     ]
    }
   ],
   "source": [
    "x = random.binomial(n=10, p=0.5, size=10)\n",
    "print(x)\n"
   ]
  },
  {
   "cell_type": "code",
   "execution_count": 60,
   "metadata": {},
   "outputs": [
    {
     "name": "stderr",
     "output_type": "stream",
     "text": [
      "C:\\Users\\NELSON ESTHER\\AppData\\Local\\Temp\\ipykernel_6916\\661670757.py:1: UserWarning: \n",
      "\n",
      "`distplot` is a deprecated function and will be removed in seaborn v0.14.0.\n",
      "\n",
      "Please adapt your code to use either `displot` (a figure-level function with\n",
      "similar flexibility) or `histplot` (an axes-level function for histograms).\n",
      "\n",
      "For a guide to updating your code to use the new functions, please see\n",
      "https://gist.github.com/mwaskom/de44147ed2974457ad6372750bbe5751\n",
      "\n",
      "  sns.distplot(random.binomial(n=10, p=0.5, size=1000), hist=True, kde=False)\n"
     ]
    },
    {
     "data": {
      "image/png": "[encoded data removed]",
      "text/plain": [
       "<Figure size 640x480 with 1 Axes>"
      ]
     },
     "metadata": {},
     "output_type": "display_data"
    }
   ],
   "source": [
    "sns.distplot(random.binomial(n=10, p=0.5, size=1000), hist=True, kde=False)\n",
    "\n",
    "plt.show()"
   ]
  },
  {
   "cell_type": "code",
   "execution_count": 66,
   "metadata": {},
   "outputs": [
    {
     "name": "stderr",
     "output_type": "stream",
     "text": [
      "C:\\Users\\NELSON ESTHER\\AppData\\Local\\Temp\\ipykernel_6916\\3486947434.py:3: UserWarning: \n",
      "\n",
      "`distplot` is a deprecated function and will be removed in seaborn v0.14.0.\n",
      "\n",
      "Please adapt your code to use either `displot` (a figure-level function with\n",
      "similar flexibility) or `kdeplot` (an axes-level function for kernel density plots).\n",
      "\n",
      "For a guide to updating your code to use the new functions, please see\n",
      "https://gist.github.com/mwaskom/de44147ed2974457ad6372750bbe5751\n",
      "\n",
      "  sns.distplot(random.normal(loc=50, scale=5, size=1000), hist=False, label='normal')\n",
      "C:\\Users\\NELSON ESTHER\\AppData\\Local\\Temp\\ipykernel_6916\\3486947434.py:4: UserWarning: \n",
      "\n",
      "`distplot` is a deprecated function and will be removed in seaborn v0.14.0.\n",
      "\n",
      "Please adapt your code to use either `displot` (a figure-level function with\n",
      "similar flexibility) or `kdeplot` (an axes-level function for kernel density plots).\n",
      "\n",
      "For a guide to updating your code to use the new functions, please see\n",
      "https://gist.github.com/mwaskom/de44147ed2974457ad6372750bbe5751\n",
      "\n",
      "  sns.distplot(random.binomial(n=100, p=0.5, size=1000), hist=False, label='binomial')\n"
     ]
    },
    {
     "data": {
      "image/png": "[encoded data removed]",
      "text/plain": [
       "<Figure size 640x480 with 1 Axes>"
      ]
     },
     "metadata": {},
     "output_type": "display_data"
    }
   ],
   "source": [
    "# The main difference is that normal distribution is continous whereas binomial is discrete, \n",
    "# but if there are enough data points it will be quite similar to normal distribution with certain loc and scale.\n",
    "sns.distplot(random.normal(loc=50, scale=5, size=1000), hist=False, label='normal')\n",
    "sns.distplot(random.binomial(n=100, p=0.5, size=1000), hist=False, label='binomial')\n",
    "plt.show()"
   ]
  },
  {
   "cell_type": "code",
   "execution_count": 72,
   "metadata": {},
   "outputs": [
    {
     "name": "stdout",
     "output_type": "stream",
     "text": [
      "[0 4 1 1 2 3 2 2 3 1]\n"
     ]
    }
   ],
   "source": [
    "# Poisson Distribution is a Discrete Distribution.\n",
    "# It estimates how many times an event can happen in a specified time. e.g. If someone eats twice a day what is the probability he will eat thrice?\n",
    "# It has two parameters:\n",
    "# lam - rate or known number of occurrences e.g. 2 for above problem.\n",
    "# size - The shape of the returned array.\n",
    "\n",
    "x = random.poisson(lam=3, size=10)\n",
    "print(x)"
   ]
  },
  {
   "cell_type": "code",
   "execution_count": null,
   "metadata": {},
   "outputs": [
    {
     "name": "stderr",
     "output_type": "stream",
     "text": [
      "C:\\Users\\NELSON ESTHER\\AppData\\Local\\Temp\\ipykernel_6916\\3265260757.py:1: UserWarning: \n",
      "\n",
      "`distplot` is a deprecated function and will be removed in seaborn v0.14.0.\n",
      "\n",
      "Please adapt your code to use either `displot` (a figure-level function with\n",
      "similar flexibility) or `histplot` (an axes-level function for histograms).\n",
      "\n",
      "For a guide to updating your code to use the new functions, please see\n",
      "https://gist.github.com/mwaskom/de44147ed2974457ad6372750bbe5751\n",
      "\n",
      "  sns.distplot(random.poisson(lam=2, size=1000), kde=False)\n"
     ]
    },
    {
     "data": {
      "image/png": "[encoded data removed]",
      "text/plain": [
       "<Figure size 640x480 with 1 Axes>"
      ]
     },
     "metadata": {},
     "output_type": "display_data"
    }
   ],
   "source": [
    "sns.distplot(random.poisson(lam=2, size=1000), kde=False)\n",
    "plt.show()"
   ]
  },
  {
   "cell_type": "code",
   "execution_count": 74,
   "metadata": {},
   "outputs": [
    {
     "name": "stderr",
     "output_type": "stream",
     "text": [
      "C:\\Users\\NELSON ESTHER\\AppData\\Local\\Temp\\ipykernel_6916\\3881005811.py:1: UserWarning: \n",
      "\n",
      "`distplot` is a deprecated function and will be removed in seaborn v0.14.0.\n",
      "\n",
      "Please adapt your code to use either `displot` (a figure-level function with\n",
      "similar flexibility) or `kdeplot` (an axes-level function for kernel density plots).\n",
      "\n",
      "For a guide to updating your code to use the new functions, please see\n",
      "https://gist.github.com/mwaskom/de44147ed2974457ad6372750bbe5751\n",
      "\n",
      "  sns.distplot(random.normal(loc=50, scale=7, size=1000), hist=False, label='normal')\n",
      "C:\\Users\\NELSON ESTHER\\AppData\\Local\\Temp\\ipykernel_6916\\3881005811.py:2: UserWarning: \n",
      "\n",
      "`distplot` is a deprecated function and will be removed in seaborn v0.14.0.\n",
      "\n",
      "Please adapt your code to use either `displot` (a figure-level function with\n",
      "similar flexibility) or `kdeplot` (an axes-level function for kernel density plots).\n",
      "\n",
      "For a guide to updating your code to use the new functions, please see\n",
      "https://gist.github.com/mwaskom/de44147ed2974457ad6372750bbe5751\n",
      "\n",
      "  sns.distplot(random.poisson(lam=50, size=1000), hist=False, label='poisson')\n"
     ]
    },
    {
     "data": {
      "image/png": "[encoded data removed]",
      "text/plain": [
       "<Figure size 640x480 with 1 Axes>"
      ]
     },
     "metadata": {},
     "output_type": "display_data"
    }
   ],
   "source": [
    "sns.distplot(random.normal(loc=50, scale=7, size=1000), hist=False, label='normal')\n",
    "sns.distplot(random.poisson(lam=50, size=1000), hist=False, label='poisson')\n",
    "plt.show()"
   ]
  },
  {
   "cell_type": "code",
   "execution_count": 75,
   "metadata": {},
   "outputs": [
    {
     "name": "stderr",
     "output_type": "stream",
     "text": [
      "C:\\Users\\NELSON ESTHER\\AppData\\Local\\Temp\\ipykernel_6916\\2422146565.py:1: UserWarning: \n",
      "\n",
      "`distplot` is a deprecated function and will be removed in seaborn v0.14.0.\n",
      "\n",
      "Please adapt your code to use either `displot` (a figure-level function with\n",
      "similar flexibility) or `kdeplot` (an axes-level function for kernel density plots).\n",
      "\n",
      "For a guide to updating your code to use the new functions, please see\n",
      "https://gist.github.com/mwaskom/de44147ed2974457ad6372750bbe5751\n",
      "\n",
      "  sns.distplot(random.binomial(n=1000, p=0.01, size=1000), hist=False, label='binomial')\n",
      "C:\\Users\\NELSON ESTHER\\AppData\\Local\\Temp\\ipykernel_6916\\2422146565.py:2: UserWarning: \n",
      "\n",
      "`distplot` is a deprecated function and will be removed in seaborn v0.14.0.\n",
      "\n",
      "Please adapt your code to use either `displot` (a figure-level function with\n",
      "similar flexibility) or `kdeplot` (an axes-level function for kernel density plots).\n",
      "\n",
      "For a guide to updating your code to use the new functions, please see\n",
      "https://gist.github.com/mwaskom/de44147ed2974457ad6372750bbe5751\n",
      "\n",
      "  sns.distplot(random.poisson(lam=10, size=1000), hist=False, label='poisson')\n"
     ]
    },
    {
     "data": {
      "image/png": "[encoded data removed]",
      "text/plain": [
       "<Figure size 640x480 with 1 Axes>"
      ]
     },
     "metadata": {},
     "output_type": "display_data"
    }
   ],
   "source": [
    "sns.distplot(random.binomial(n=1000, p=0.01, size=1000), hist=False, label='binomial')\n",
    "sns.distplot(random.poisson(lam=10, size=1000), hist=False, label='poisson')\n",
    "plt.show()"
   ]
  },
  {
   "cell_type": "code",
   "execution_count": null,
   "metadata": {},
   "outputs": [],
   "source": []
  }
 ],
 "metadata": {
  "kernelspec": {
   "display_name": "Python 3",
   "language": "python",
   "name": "python3"
  },
  "language_info": {
   "codemirror_mode": {
    "name": "ipython",
    "version": 3
   },
   "file_extension": ".py",
   "mimetype": "text/x-python",
   "name": "python",
   "nbconvert_exporter": "python",
   "pygments_lexer": "ipython3",
   "version": "3.10.5"
  }
 },
 "nbformat": 4,
 "nbformat_minor": 2
}
