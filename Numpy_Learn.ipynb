{
 "cells": [
  {
   "cell_type": "code",
   "execution_count": 2,
   "metadata": {},
   "outputs": [],
   "source": [
    "import numpy as np"
   ]
  },
  {
   "cell_type": "code",
   "execution_count": 3,
   "metadata": {},
   "outputs": [
    {
     "name": "stdout",
     "output_type": "stream",
     "text": [
      "1.23.2\n"
     ]
    }
   ],
   "source": [
    "print(np.__version__)"
   ]
  },
  {
   "cell_type": "code",
   "execution_count": 4,
   "metadata": {},
   "outputs": [],
   "source": [
    "# NumPy is a Python library used for working with arrays.\n",
    "\n",
    "# It also has functions for working in domain of linear algebra, fourier transform, and matrices.\n",
    "\n",
    "# NumPy was created in 2005 by Travis Oliphant. It is an open source project and you can use it freely.\n",
    "\n",
    "# NumPy stands for Numerical Python.\n",
    "\n",
    "# Why Use NumPy?\n",
    "# In Python we have lists that serve the purpose of arrays, but they are slow to process.\n",
    "\n",
    "# NumPy aims to provide an array object that is up to 50x faster than traditional Python lists.\n",
    "\n",
    "# The array object in NumPy is called ndarray, it provides a lot of supporting functions that make working with ndarray very easy.\n",
    "\n",
    "# NumPy is used to work with arrays. The array object in NumPy is called ndarray.\n",
    "# We can create a NumPy ndarray object by using the array() function.\n",
    "# To create an ndarray, we can pass a list, tuple or any array-like object into the array() method, and it will be converted into an ndarray:"
   ]
  },
  {
   "cell_type": "code",
   "execution_count": 5,
   "metadata": {},
   "outputs": [
    {
     "name": "stdout",
     "output_type": "stream",
     "text": [
      "[1 2 3 4 5]\n",
      "<class 'numpy.ndarray'>\n",
      "\n",
      "[1 2 3 4 5]\n",
      "<class 'numpy.ndarray'>\n"
     ]
    }
   ],
   "source": [
    "arr = np.array([1,2,3,4,5])\n",
    "print(arr)\n",
    "print(type(arr))\n",
    "\n",
    "print()\n",
    "\n",
    "arr = np.array((1,2,3,4,5))\n",
    "print(arr)\n",
    "print(type(arr))"
   ]
  },
  {
   "cell_type": "code",
   "execution_count": 6,
   "metadata": {},
   "outputs": [
    {
     "name": "stdout",
     "output_type": "stream",
     "text": [
      "0\n",
      "1\n",
      "2\n",
      "3\n",
      "3\n",
      "3\n"
     ]
    }
   ],
   "source": [
    "# Arrays can have as many number of dimensions starting from zero dimension(0-D) and ndim is used to check number of dimensions\n",
    "# An array that has 2-D arrays (matrices) as its elements is called 3-D array.\n",
    "\n",
    "a = np.array(42)\n",
    "b = np.array([1, 2, 3, 4, 5])\n",
    "c = np.array([[1, 2, 3], [4, 5, 6]])\n",
    "d = np.array([[[1, 2, 3], [4, 5, 6]], [[1, 2, 3], [4, 5, 6]]])\n",
    "e = np.array([[[1, 2, 3], [4, 5, 6]], [[1, 2, 3], [4, 5, 6]], [[1, 2, 3], [4, 5, 6]]])\n",
    "f = np.array([[[1, 2, 3], [4, 5, 6]]])\n",
    "\n",
    "\n",
    "print(a.ndim)\n",
    "print(b.ndim)\n",
    "print(c.ndim)\n",
    "print(d.ndim)\n",
    "print(e.ndim)\n",
    "print(f.ndim)\n"
   ]
  },
  {
   "cell_type": "code",
   "execution_count": 7,
   "metadata": {},
   "outputs": [
    {
     "name": "stdout",
     "output_type": "stream",
     "text": [
      "[[[1 2 3]\n",
      "  [4 5 6]]]\n",
      "number of dimensions:  3\n"
     ]
    }
   ],
   "source": [
    "# When the array is created, you can define the number of dimensions by using the ndmin argument.\n",
    "arrr = np.array([[1,2,3], [4,5,6]], ndmin=3)\n",
    "print(arrr)\n",
    "print('number of dimensions: ', arrr.ndim)"
   ]
  },
  {
   "cell_type": "code",
   "execution_count": 8,
   "metadata": {},
   "outputs": [
    {
     "name": "stdout",
     "output_type": "stream",
     "text": [
      "1\n",
      "\n",
      "7\n"
     ]
    }
   ],
   "source": [
    "# Array indexing is the same as accessing an array element.\n",
    "# You can access an array element by referring to its index number.\n",
    "# The indexes in NumPy arrays start with 0, meaning that the first element has index 0, and the second has index 1 etc.\n",
    "\n",
    "arr = np.array([1,2,3,4,5])\n",
    "print(arr[0])\n",
    "\n",
    "print()\n",
    "\n",
    "print(arr[2] + arr[3])"
   ]
  },
  {
   "cell_type": "code",
   "execution_count": 9,
   "metadata": {},
   "outputs": [
    {
     "name": "stdout",
     "output_type": "stream",
     "text": [
      "2nd element on 1st row:  2\n"
     ]
    }
   ],
   "source": [
    "arr = np.array([[1,2,3,4,5], [6,7,8,9,10]])\n",
    "\n",
    "print('2nd element on 1st row: ', arr[0, 1])"
   ]
  },
  {
   "cell_type": "code",
   "execution_count": 10,
   "metadata": {},
   "outputs": [
    {
     "name": "stdout",
     "output_type": "stream",
     "text": [
      "2nd element on 1st row:  2\n"
     ]
    }
   ],
   "source": [
    "arr = np.array([[[1,2,3,4,5], [6,7,8,9,10]]])\n",
    "\n",
    "print('2nd element on 1st row: ', arr[0, 0, 1])"
   ]
  },
  {
   "cell_type": "code",
   "execution_count": 11,
   "metadata": {},
   "outputs": [
    {
     "name": "stdout",
     "output_type": "stream",
     "text": [
      "6\n"
     ]
    }
   ],
   "source": [
    "arr = np.array([[[1, 2, 3], [4, 5, 6]], [[7, 8, 9], [10, 11, 12]]])\n",
    "print(arr[0, 1, 2])\n",
    "\n",
    "# arr[0, 1, 2] prints the value 6.\n",
    "\n",
    "# And this is why:\n",
    "\n",
    "# The first number represents the first dimension, which contains two arrays:\n",
    "# [[1, 2, 3], [4, 5, 6]]\n",
    "# and:\n",
    "# [[7, 8, 9], [10, 11, 12]]\n",
    "# Since we selected 0, we are left with the first array:\n",
    "# [[1, 2, 3], [4, 5, 6]]\n",
    "\n",
    "# The second number represents the second dimension, which also contains two arrays:\n",
    "# [1, 2, 3]\n",
    "# and:\n",
    "# [4, 5, 6]\n",
    "# Since we selected 1, we are left with the second array:\n",
    "# [4, 5, 6]\n",
    "\n",
    "# The third number represents the third dimension, which contains three values:\n",
    "# 4\n",
    "# 5\n",
    "# 6\n",
    "# Since we selected 2, we end up with the third value:\n",
    "# 6\n",
    "\n"
   ]
  },
  {
   "cell_type": "code",
   "execution_count": 12,
   "metadata": {},
   "outputs": [
    {
     "name": "stdout",
     "output_type": "stream",
     "text": [
      "Last element from 2nd dim:  10\n"
     ]
    }
   ],
   "source": [
    "arr = np.array([[1,2,3,4,5], [6,7,8,9,10]])\n",
    "print('Last element from 2nd dim: ', arr[1, -1])"
   ]
  },
  {
   "cell_type": "code",
   "execution_count": 13,
   "metadata": {},
   "outputs": [
    {
     "name": "stdout",
     "output_type": "stream",
     "text": [
      "[2 3 4 5]\n",
      "\n",
      "[5 6 7]\n",
      "\n",
      "[1 2 3 4]\n"
     ]
    }
   ],
   "source": [
    "arr = np.array([1, 2, 3, 4, 5, 6, 7])\n",
    "print(arr[1:5])\n",
    "\n",
    "print()\n",
    "\n",
    "arr = np.array([1, 2, 3, 4, 5, 6, 7])\n",
    "print(arr[4:])\n",
    "\n",
    "print()\n",
    "\n",
    "arr = np.array([1, 2, 3, 4, 5, 6, 7])\n",
    "print(arr[:4])"
   ]
  },
  {
   "cell_type": "code",
   "execution_count": 23,
   "metadata": {},
   "outputs": [
    {
     "name": "stdout",
     "output_type": "stream",
     "text": [
      "[5 6]\n",
      "\n",
      "[2 4]\n",
      "\n",
      "[7 8 9]\n"
     ]
    }
   ],
   "source": [
    "# negative slicing\n",
    "arr = np.array([1, 2, 3, 4, 5, 6, 7])\n",
    "print(arr[-3:-1])\n",
    "\n",
    "print()\n",
    "\n",
    "arr = np.array([1, 2, 3, 4, 5, 6, 7])\n",
    "print(arr[1:5:2])\n",
    "\n",
    "print()\n",
    "\n",
    "arr = np.array([[1, 2, 3, 4, 5], [6, 7, 8, 9, 10]])\n",
    "print(arr[1, 1:4])\n"
   ]
  },
  {
   "cell_type": "code",
   "execution_count": 24,
   "metadata": {},
   "outputs": [],
   "source": [
    "# Data Types in Python\n",
    "\n",
    "# strings - used to represent text data, the text is given under quote marks. e.g. \"ABCD\"\n",
    "# integer - used to represent integer numbers. e.g. -1, -2, -3\n",
    "# float - used to represent real numbers. e.g. 1.2, 42.42\n",
    "# boolean - used to represent True or False.\n",
    "# complex - used to represent complex numbers. e.g. 1.0 + 2.0j, 1.5 + 2.5j\n",
    "\n",
    "# Data Types in NumPy\n",
    "# NumPy has some extra data types, and refer to data types with one character, like i for integers, u for unsigned integers etc.\n",
    "\n",
    "# Below is a list of all data types in NumPy and the characters used to represent them.\n",
    "\n",
    "# i - integer\n",
    "# b - boolean\n",
    "# u - unsigned integer\n",
    "# f - float\n",
    "# c - complex float\n",
    "# m - timedelta\n",
    "# M - datetime\n",
    "# O - object\n",
    "# S - string\n",
    "# U - unicode string\n",
    "# V - fixed chunk of memory for other type ( void )"
   ]
  },
  {
   "cell_type": "code",
   "execution_count": 31,
   "metadata": {},
   "outputs": [
    {
     "name": "stdout",
     "output_type": "stream",
     "text": [
      "int32\n",
      "\n",
      "<U6\n",
      "\n",
      "[b'1' b'2' b'3' b'4']\n",
      "|S1\n",
      "\n",
      "[1 2 3 4]\n",
      "int32\n"
     ]
    }
   ],
   "source": [
    "arr = np.array([1, 2, 3, 4])\n",
    "print(arr.dtype)\n",
    "\n",
    "print()\n",
    "\n",
    "arr = np.array(['apple', 'carrot', 'banana', 'corn'])\n",
    "print(arr.dtype)\n",
    "\n",
    "print()\n",
    "\n",
    "arr = np.array([1, 2, 3, 4], dtype='S')\n",
    "print(arr)\n",
    "print(arr.dtype)\n",
    "\n",
    "print()\n",
    "\n",
    "arr = np.array([1, 2, 3, 4], dtype='i4')\n",
    "print(arr)\n",
    "print(arr.dtype)\n",
    "\n"
   ]
  },
  {
   "cell_type": "code",
   "execution_count": 37,
   "metadata": {},
   "outputs": [
    {
     "name": "stdout",
     "output_type": "stream",
     "text": [
      "[1 2 3 4]\n",
      "int32\n",
      "\n",
      "[1 2 3 4 0]\n",
      "int32\n",
      "\n",
      "[ True  True  True  True False]\n",
      "bool\n"
     ]
    }
   ],
   "source": [
    "# The best way to change the data type of an existing array, is to make a copy of the array with the astype() method.\n",
    "# The astype() function creates a copy of the array, and allows you to specify the data type as a parameter.\n",
    "# The data type can be specified using a string, like 'f' for float, 'i' for integer etc. \n",
    "# or you can use the data type directly like float for float and int for integer.\n",
    "\n",
    "arr = np.array([1.1, 2.2, 3.8, 4.5])\n",
    "newarr = arr.astype('i')\n",
    "print(newarr)\n",
    "print(newarr.dtype)\n",
    "\n",
    "print()\n",
    "\n",
    "arr = np.array([1.1, 2.2, 3.8, 4.5, 0.0])\n",
    "newarr = arr.astype(int)\n",
    "print(newarr)\n",
    "print(newarr.dtype)\n",
    "\n",
    "print()\n",
    "\n",
    "newarr1 = newarr.astype(bool)\n",
    "print(newarr1)\n",
    "print(newarr1.dtype)"
   ]
  },
  {
   "cell_type": "code",
   "execution_count": 39,
   "metadata": {},
   "outputs": [
    {
     "name": "stdout",
     "output_type": "stream",
     "text": [
      "[42  2  3  4  5]\n",
      "[1 2 3 4 5]\n",
      "\n",
      "[42  2  3  4  5]\n",
      "[42  2  3  4  5]\n"
     ]
    }
   ],
   "source": [
    "# The main difference between a copy and a view of an array is that the copy is a new array, and the view is just a view of the original array.\n",
    "# The copy owns the data and any changes made to the copy will not affect original array, \n",
    "# and any changes made to the original array will not affect the copy.\n",
    "# The view does not own the data and any changes made to the view will affect the original array, \n",
    "# and any changes made to the original array will affect the view.\n",
    "\n",
    "arr = np.array([1, 2, 3, 4, 5])\n",
    "x = arr.copy()\n",
    "arr[0] = 42\n",
    "\n",
    "print(arr)\n",
    "print(x)\n",
    "\n",
    "print()\n",
    "\n",
    "arr = np.array([1, 2, 3, 4, 5])\n",
    "x = arr.view()\n",
    "arr[0] = 42\n",
    "\n",
    "print(arr)\n",
    "print(x)"
   ]
  },
  {
   "cell_type": "code",
   "execution_count": null,
   "metadata": {},
   "outputs": [],
   "source": []
  }
 ],
 "metadata": {
  "kernelspec": {
   "display_name": "Python 3",
   "language": "python",
   "name": "python3"
  },
  "language_info": {
   "codemirror_mode": {
    "name": "ipython",
    "version": 3
   },
   "file_extension": ".py",
   "mimetype": "text/x-python",
   "name": "python",
   "nbconvert_exporter": "python",
   "pygments_lexer": "ipython3",
   "version": "3.10.5"
  }
 },
 "nbformat": 4,
 "nbformat_minor": 2
}
