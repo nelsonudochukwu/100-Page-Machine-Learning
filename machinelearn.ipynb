{
 "cells": [
  {
   "cell_type": "code",
   "execution_count": 3,
   "metadata": {},
   "outputs": [],
   "source": [
    "# supervised-labelled\n",
    "# unsupervised-unlabelled\n",
    "# semi-supervised - combination of both labelled and unlabelled"
   ]
  },
  {
   "cell_type": "code",
   "execution_count": 4,
   "metadata": {},
   "outputs": [
    {
     "name": "stdout",
     "output_type": "stream",
     "text": [
      "   col1  col2  col3\n",
      "0     1     4     7\n",
      "1     2     5     8\n",
      "2     3     6    12\n",
      "3     4     9     1\n",
      "4     7     5    11\n"
     ]
    }
   ],
   "source": [
    "# A data frame is a structured representation of data.\n",
    "# Let's define a data frame with 3 columns and 5 rows with fictional numbers:\n",
    "\n",
    "import pandas as pd\n",
    "\n",
    "d = {'col1': [1, 2, 3, 4, 7], 'col2': [4, 5, 6, 9, 5], 'col3': [7, 8, 12, 1, 11]}\n",
    "\n",
    "df = pd.DataFrame(data=d)\n",
    "\n",
    "print(df)"
   ]
  },
  {
   "cell_type": "code",
   "execution_count": 5,
   "metadata": {},
   "outputs": [
    {
     "name": "stdout",
     "output_type": "stream",
     "text": [
      "3\n",
      "5\n",
      "\n",
      "125\n",
      "80\n"
     ]
    }
   ],
   "source": [
    "# for finding number of rows, df.shape[0]\n",
    "# for finding number of column, df.shape[1]\n",
    "\n",
    "column_num = df.shape[1]\n",
    "print(column_num)\n",
    "\n",
    "row_num = df.shape[0]\n",
    "print(row_num)\n",
    "\n",
    "print()\n",
    "\n",
    "average_pulse = (80, 85, 90, 95, 100, 105, 110, 115, 120, 125)\n",
    "max_average = max(average_pulse)\n",
    "print(max_average)\n",
    "\n",
    "min_average = min(average_pulse)\n",
    "print(min_average)"
   ]
  },
  {
   "cell_type": "code",
   "execution_count": 6,
   "metadata": {},
   "outputs": [
    {
     "name": "stdout",
     "output_type": "stream",
     "text": [
      "102.5\n",
      "285.0\n"
     ]
    }
   ],
   "source": [
    "import numpy as np\n",
    "mean_average_pulse = np.mean(average_pulse)\n",
    "print(mean_average_pulse)\n",
    "\n",
    "Calorie_burnage = [240, 250, 260, 270, 280, 290, 300, 310, 320, 330]\n",
    "average_calorie = np.mean(Calorie_burnage)\n",
    "print(average_calorie)"
   ]
  },
  {
   "cell_type": "code",
   "execution_count": 7,
   "metadata": {},
   "outputs": [
    {
     "name": "stdout",
     "output_type": "stream",
     "text": [
      "    Duration Average_Pulse Max_Pulse  Calorie_Burnage  Hours_Work  Hours_Sleep\n",
      "0       30.0            80       120            240.0        10.0          7.0\n",
      "1       45.0            85       120            250.0        10.0          7.0\n",
      "2       45.0            90       130            260.0         8.0          7.0\n",
      "3       60.0            95       130            270.0         8.0          7.0\n",
      "4       60.0           100       140            280.0         0.0          7.0\n",
      "5        NaN           NaN       NaN              NaN         NaN          NaN\n",
      "6       60.0           105       140            290.0         7.0          8.0\n",
      "7       60.0           110       145            300.0         7.0          8.0\n",
      "8       45.0           NaN        AF              NaN         8.0          8.0\n",
      "9       45.0           115       145            310.0         8.0          8.0\n",
      "10      60.0           120       150            320.0         0.0          8.0\n",
      "11      60.0         9 000       130              NaN         NaN          8.0\n",
      "12      45.0           125       150            330.0         8.0          8.0\n"
     ]
    }
   ],
   "source": [
    "import pandas as pd\n",
    "\n",
    "health_data = pd.read_csv(\"C:\\\\Users\\\\NELSON ESTHER\\\\Desktop\\\\data.csv\")\n",
    "print(health_data)"
   ]
  },
  {
   "cell_type": "code",
   "execution_count": 8,
   "metadata": {},
   "outputs": [
    {
     "data": {
      "text/html": [
       "<div>\n",
       "<style scoped>\n",
       "    .dataframe tbody tr th:only-of-type {\n",
       "        vertical-align: middle;\n",
       "    }\n",
       "\n",
       "    .dataframe tbody tr th {\n",
       "        vertical-align: top;\n",
       "    }\n",
       "\n",
       "    .dataframe thead th {\n",
       "        text-align: right;\n",
       "    }\n",
       "</style>\n",
       "<table border=\"1\" class=\"dataframe\">\n",
       "  <thead>\n",
       "    <tr style=\"text-align: right;\">\n",
       "      <th></th>\n",
       "      <th>Duration</th>\n",
       "      <th>Average_Pulse</th>\n",
       "      <th>Max_Pulse</th>\n",
       "      <th>Calorie_Burnage</th>\n",
       "      <th>Hours_Work</th>\n",
       "      <th>Hours_Sleep</th>\n",
       "    </tr>\n",
       "  </thead>\n",
       "  <tbody>\n",
       "    <tr>\n",
       "      <th>0</th>\n",
       "      <td>30.0</td>\n",
       "      <td>80</td>\n",
       "      <td>120</td>\n",
       "      <td>240.0</td>\n",
       "      <td>10.0</td>\n",
       "      <td>7.0</td>\n",
       "    </tr>\n",
       "    <tr>\n",
       "      <th>1</th>\n",
       "      <td>45.0</td>\n",
       "      <td>85</td>\n",
       "      <td>120</td>\n",
       "      <td>250.0</td>\n",
       "      <td>10.0</td>\n",
       "      <td>7.0</td>\n",
       "    </tr>\n",
       "    <tr>\n",
       "      <th>2</th>\n",
       "      <td>45.0</td>\n",
       "      <td>90</td>\n",
       "      <td>130</td>\n",
       "      <td>260.0</td>\n",
       "      <td>8.0</td>\n",
       "      <td>7.0</td>\n",
       "    </tr>\n",
       "    <tr>\n",
       "      <th>3</th>\n",
       "      <td>60.0</td>\n",
       "      <td>95</td>\n",
       "      <td>130</td>\n",
       "      <td>270.0</td>\n",
       "      <td>8.0</td>\n",
       "      <td>7.0</td>\n",
       "    </tr>\n",
       "    <tr>\n",
       "      <th>4</th>\n",
       "      <td>60.0</td>\n",
       "      <td>100</td>\n",
       "      <td>140</td>\n",
       "      <td>280.0</td>\n",
       "      <td>0.0</td>\n",
       "      <td>7.0</td>\n",
       "    </tr>\n",
       "  </tbody>\n",
       "</table>\n",
       "</div>"
      ],
      "text/plain": [
       "   Duration Average_Pulse Max_Pulse  Calorie_Burnage  Hours_Work  Hours_Sleep\n",
       "0      30.0            80       120            240.0        10.0          7.0\n",
       "1      45.0            85       120            250.0        10.0          7.0\n",
       "2      45.0            90       130            260.0         8.0          7.0\n",
       "3      60.0            95       130            270.0         8.0          7.0\n",
       "4      60.0           100       140            280.0         0.0          7.0"
      ]
     },
     "execution_count": 8,
     "metadata": {},
     "output_type": "execute_result"
    }
   ],
   "source": [
    "health_data.head()"
   ]
  },
  {
   "cell_type": "code",
   "execution_count": 9,
   "metadata": {},
   "outputs": [],
   "source": [
    "# Pandas - This library is used for structured data operations, like import CSV files, create dataframes, and data preparation\n",
    "# Numpy - This is a mathematical library. Has a powerful N-dimensional array object, linear algebra, Fourier transform, etc.\n",
    "# Matplotlib - This library is used for visualization of data.\n",
    "# SciPy - This library has linear algebra modules."
   ]
  },
  {
   "cell_type": "code",
   "execution_count": 10,
   "metadata": {},
   "outputs": [
    {
     "name": "stdout",
     "output_type": "stream",
     "text": [
      "    Duration Average_Pulse Max_Pulse  Calorie_Burnage  Hours_Work  Hours_Sleep\n",
      "0       30.0            80       120            240.0        10.0          7.0\n",
      "1       45.0            85       120            250.0        10.0          7.0\n",
      "2       45.0            90       130            260.0         8.0          7.0\n",
      "3       60.0            95       130            270.0         8.0          7.0\n",
      "4       60.0           100       140            280.0         0.0          7.0\n",
      "6       60.0           105       140            290.0         7.0          8.0\n",
      "7       60.0           110       145            300.0         7.0          8.0\n",
      "9       45.0           115       145            310.0         8.0          8.0\n",
      "10      60.0           120       150            320.0         0.0          8.0\n",
      "12      45.0           125       150            330.0         8.0          8.0\n"
     ]
    }
   ],
   "source": [
    "# We can use the dropna() function to remove the NaNs. axis=0 means that we want to remove all rows that have a NaN value:\n",
    "health_data.dropna(axis=0, inplace=True)\n",
    "print(health_data)"
   ]
  },
  {
   "cell_type": "code",
   "execution_count": 11,
   "metadata": {},
   "outputs": [
    {
     "name": "stdout",
     "output_type": "stream",
     "text": [
      "<class 'pandas.core.frame.DataFrame'>\n",
      "Int64Index: 10 entries, 0 to 12\n",
      "Data columns (total 6 columns):\n",
      " #   Column           Non-Null Count  Dtype  \n",
      "---  ------           --------------  -----  \n",
      " 0   Duration         10 non-null     float64\n",
      " 1   Average_Pulse    10 non-null     object \n",
      " 2   Max_Pulse        10 non-null     object \n",
      " 3   Calorie_Burnage  10 non-null     float64\n",
      " 4   Hours_Work       10 non-null     float64\n",
      " 5   Hours_Sleep      10 non-null     float64\n",
      "dtypes: float64(4), object(2)\n",
      "memory usage: 560.0+ bytes\n"
     ]
    }
   ],
   "source": [
    "# Quantitative Data - Can be expressed as a number or can be quantified. Can be divided into two sub-categories:\n",
    "# Discrete data: Numbers are counted as \"whole\", e.g. number of students in a class, number of goals in a soccer game\n",
    "# Continuous data: Numbers can be of infinite precision. e.g. weight of a person, shoe size, temperature\n",
    "# Qualitative Data - Cannot be expressed as a number and cannot be quantified. Can be divided into two sub-categories:\n",
    "# Nominal data: Example: gender, hair color, ethnicity\n",
    "# Ordinal data: Example: school grades (A, B, C), economic status (low, middle, high)\n",
    "\n",
    "health_data.info()"
   ]
  },
  {
   "cell_type": "code",
   "execution_count": 12,
   "metadata": {},
   "outputs": [
    {
     "name": "stdout",
     "output_type": "stream",
     "text": [
      "<class 'pandas.core.frame.DataFrame'>\n",
      "Int64Index: 10 entries, 0 to 12\n",
      "Data columns (total 6 columns):\n",
      " #   Column           Non-Null Count  Dtype  \n",
      "---  ------           --------------  -----  \n",
      " 0   Duration         10 non-null     float64\n",
      " 1   Average_Pulse    10 non-null     float64\n",
      " 2   Max_Pulse        10 non-null     float64\n",
      " 3   Calorie_Burnage  10 non-null     float64\n",
      " 4   Hours_Work       10 non-null     float64\n",
      " 5   Hours_Sleep      10 non-null     float64\n",
      "dtypes: float64(6)\n",
      "memory usage: 560.0 bytes\n"
     ]
    }
   ],
   "source": [
    "# We can use the astype() function to convert the data into float64.\n",
    "\n",
    "health_data[\"Average_Pulse\"] = health_data[\"Average_Pulse\"].astype(float)\n",
    "health_data[\"Max_Pulse\"] = health_data[\"Max_Pulse\"].astype(float)\n",
    "health_data.info()"
   ]
  },
  {
   "cell_type": "code",
   "execution_count": 13,
   "metadata": {},
   "outputs": [
    {
     "data": {
      "text/html": [
       "<div>\n",
       "<style scoped>\n",
       "    .dataframe tbody tr th:only-of-type {\n",
       "        vertical-align: middle;\n",
       "    }\n",
       "\n",
       "    .dataframe tbody tr th {\n",
       "        vertical-align: top;\n",
       "    }\n",
       "\n",
       "    .dataframe thead th {\n",
       "        text-align: right;\n",
       "    }\n",
       "</style>\n",
       "<table border=\"1\" class=\"dataframe\">\n",
       "  <thead>\n",
       "    <tr style=\"text-align: right;\">\n",
       "      <th></th>\n",
       "      <th>Duration</th>\n",
       "      <th>Average_Pulse</th>\n",
       "      <th>Max_Pulse</th>\n",
       "      <th>Calorie_Burnage</th>\n",
       "      <th>Hours_Work</th>\n",
       "      <th>Hours_Sleep</th>\n",
       "    </tr>\n",
       "  </thead>\n",
       "  <tbody>\n",
       "    <tr>\n",
       "      <th>count</th>\n",
       "      <td>10.00</td>\n",
       "      <td>10.00</td>\n",
       "      <td>10.00</td>\n",
       "      <td>10.00</td>\n",
       "      <td>10.00</td>\n",
       "      <td>10.00</td>\n",
       "    </tr>\n",
       "    <tr>\n",
       "      <th>mean</th>\n",
       "      <td>51.00</td>\n",
       "      <td>102.50</td>\n",
       "      <td>137.00</td>\n",
       "      <td>285.00</td>\n",
       "      <td>6.60</td>\n",
       "      <td>7.50</td>\n",
       "    </tr>\n",
       "    <tr>\n",
       "      <th>std</th>\n",
       "      <td>10.49</td>\n",
       "      <td>15.14</td>\n",
       "      <td>11.35</td>\n",
       "      <td>30.28</td>\n",
       "      <td>3.63</td>\n",
       "      <td>0.53</td>\n",
       "    </tr>\n",
       "    <tr>\n",
       "      <th>min</th>\n",
       "      <td>30.00</td>\n",
       "      <td>80.00</td>\n",
       "      <td>120.00</td>\n",
       "      <td>240.00</td>\n",
       "      <td>0.00</td>\n",
       "      <td>7.00</td>\n",
       "    </tr>\n",
       "    <tr>\n",
       "      <th>25%</th>\n",
       "      <td>45.00</td>\n",
       "      <td>91.25</td>\n",
       "      <td>130.00</td>\n",
       "      <td>262.50</td>\n",
       "      <td>7.00</td>\n",
       "      <td>7.00</td>\n",
       "    </tr>\n",
       "    <tr>\n",
       "      <th>50%</th>\n",
       "      <td>52.50</td>\n",
       "      <td>102.50</td>\n",
       "      <td>140.00</td>\n",
       "      <td>285.00</td>\n",
       "      <td>8.00</td>\n",
       "      <td>7.50</td>\n",
       "    </tr>\n",
       "    <tr>\n",
       "      <th>75%</th>\n",
       "      <td>60.00</td>\n",
       "      <td>113.75</td>\n",
       "      <td>145.00</td>\n",
       "      <td>307.50</td>\n",
       "      <td>8.00</td>\n",
       "      <td>8.00</td>\n",
       "    </tr>\n",
       "    <tr>\n",
       "      <th>max</th>\n",
       "      <td>60.00</td>\n",
       "      <td>125.00</td>\n",
       "      <td>150.00</td>\n",
       "      <td>330.00</td>\n",
       "      <td>10.00</td>\n",
       "      <td>8.00</td>\n",
       "    </tr>\n",
       "  </tbody>\n",
       "</table>\n",
       "</div>"
      ],
      "text/plain": [
       "       Duration  Average_Pulse  Max_Pulse  Calorie_Burnage  Hours_Work  \\\n",
       "count     10.00          10.00      10.00            10.00       10.00   \n",
       "mean      51.00         102.50     137.00           285.00        6.60   \n",
       "std       10.49          15.14      11.35            30.28        3.63   \n",
       "min       30.00          80.00     120.00           240.00        0.00   \n",
       "25%       45.00          91.25     130.00           262.50        7.00   \n",
       "50%       52.50         102.50     140.00           285.00        8.00   \n",
       "75%       60.00         113.75     145.00           307.50        8.00   \n",
       "max       60.00         125.00     150.00           330.00       10.00   \n",
       "\n",
       "       Hours_Sleep  \n",
       "count        10.00  \n",
       "mean          7.50  \n",
       "std           0.53  \n",
       "min           7.00  \n",
       "25%           7.00  \n",
       "50%           7.50  \n",
       "75%           8.00  \n",
       "max           8.00  "
      ]
     },
     "execution_count": 13,
     "metadata": {},
     "output_type": "execute_result"
    }
   ],
   "source": [
    "health_data.describe().round(2)"
   ]
  },
  {
   "cell_type": "code",
   "execution_count": 14,
   "metadata": {},
   "outputs": [
    {
     "data": {
      "image/png": "[encoded data removed]",
      "text/plain": [
       "<Figure size 640x480 with 1 Axes>"
      ]
     },
     "metadata": {},
     "output_type": "display_data"
    }
   ],
   "source": [
    "# y = f(x) = ax + b\n",
    "# This function is used to calculate a value for the dependent variable when we choose a value for the independent variable.\n",
    "\n",
    "# Explanation:\n",
    "# f(x) = the output (the dependant variable)\n",
    "# x = the input (the independant variable)\n",
    "# a = slope = is the coefficient of the independent variable. It gives the rate of change of the dependent variable\n",
    "# b = intercept = is the value of the dependent variable when x = 0. It is also the point where the diagonal line crosses the vertical axis.\n",
    "\n",
    "import matplotlib.pyplot as plt\n",
    "health_data.plot(x = 'Average_Pulse', y = 'Calorie_Burnage', kind='line')\n",
    "plt.ylim(ymin = 0)\n",
    "plt.xlim(xmin = 0)\n",
    "plt.show()\n",
    "\n",
    "# The plot() function is used to make a 2D hexagonal binning plot of points x,y\n",
    "# kind='line' tells us which type of plot we want. Here, we want to have a straight line\n",
    "# plt.ylim() and plt.xlim() tells us what value we want the axis to start on. Here, we want the axis to begin from zero\n",
    "# plt.show() shows us the output"
   ]
  },
  {
   "cell_type": "code",
   "execution_count": 15,
   "metadata": {},
   "outputs": [
    {
     "name": "stdout",
     "output_type": "stream",
     "text": [
      "2.0\n"
     ]
    }
   ],
   "source": [
    "def slope(x1, y1, x2, y2):\n",
    "  s = (y2-y1)/(x2-x1)\n",
    "  return s\n",
    "\n",
    "print (slope(80,240,90,260))"
   ]
  },
  {
   "cell_type": "code",
   "execution_count": 16,
   "metadata": {},
   "outputs": [
    {
     "name": "stdout",
     "output_type": "stream",
     "text": [
      "[ 2. 80.]\n"
     ]
    }
   ],
   "source": [
    "import pandas as pd\n",
    "import numpy as np\n",
    "\n",
    "\n",
    "x = health_data[\"Average_Pulse\"]\n",
    "y = health_data[\"Calorie_Burnage\"]\n",
    "slope_intercept = np.polyfit(x,y,1)\n",
    "\n",
    "print(slope_intercept)\n",
    "\n",
    "# Isolate the variables Average_Pulse (x) and Calorie_Burnage (y) from health_data.\n",
    "# Call the np.polyfit() function.\n",
    "# The last parameter of the function specifies the degree of the function, which in this case is \"1\".\n",
    "# Tip: linear functions = 1.degree function. In our example, the function is linear, which is in the 1.degree. \n",
    "# That means that all coefficients (the numbers) are in the power of one."
   ]
  },
  {
   "cell_type": "code",
   "execution_count": 17,
   "metadata": {},
   "outputs": [
    {
     "data": {
      "image/png": "[encoded data removed]",
      "text/plain": [
       "<Figure size 640x480 with 1 Axes>"
      ]
     },
     "metadata": {},
     "output_type": "display_data"
    }
   ],
   "source": [
    "import matplotlib.pyplot as plt\n",
    "\n",
    "health_data.plot(x ='Average_Pulse', y='Calorie_Burnage', kind='line'),\n",
    "plt.ylim(ymin=230, ymax=400)\n",
    "plt.xlim(xmin=70, xmax=150)\n",
    "\n",
    "plt.show()"
   ]
  },
  {
   "cell_type": "code",
   "execution_count": null,
   "metadata": {},
   "outputs": [],
   "source": []
  },
  {
   "cell_type": "code",
   "execution_count": 18,
   "metadata": {},
   "outputs": [
    {
     "data": {
      "text/html": [
       "<div>\n",
       "<style scoped>\n",
       "    .dataframe tbody tr th:only-of-type {\n",
       "        vertical-align: middle;\n",
       "    }\n",
       "\n",
       "    .dataframe tbody tr th {\n",
       "        vertical-align: top;\n",
       "    }\n",
       "\n",
       "    .dataframe thead th {\n",
       "        text-align: right;\n",
       "    }\n",
       "</style>\n",
       "<table border=\"1\" class=\"dataframe\">\n",
       "  <thead>\n",
       "    <tr style=\"text-align: right;\">\n",
       "      <th></th>\n",
       "      <th>Duration</th>\n",
       "      <th>Average_Pulse</th>\n",
       "      <th>Max_Pulse</th>\n",
       "      <th>Calorie_Burnage</th>\n",
       "      <th>Hours_Work</th>\n",
       "      <th>Hours_Sleep</th>\n",
       "    </tr>\n",
       "  </thead>\n",
       "  <tbody>\n",
       "    <tr>\n",
       "      <th>count</th>\n",
       "      <td>163.000000</td>\n",
       "      <td>163.000000</td>\n",
       "      <td>163.000000</td>\n",
       "      <td>163.000000</td>\n",
       "      <td>163.000000</td>\n",
       "      <td>163.000000</td>\n",
       "    </tr>\n",
       "    <tr>\n",
       "      <th>mean</th>\n",
       "      <td>64.263804</td>\n",
       "      <td>107.723926</td>\n",
       "      <td>134.226994</td>\n",
       "      <td>382.368098</td>\n",
       "      <td>4.386503</td>\n",
       "      <td>7.680982</td>\n",
       "    </tr>\n",
       "    <tr>\n",
       "      <th>std</th>\n",
       "      <td>42.994520</td>\n",
       "      <td>14.625062</td>\n",
       "      <td>16.403967</td>\n",
       "      <td>274.227106</td>\n",
       "      <td>3.923772</td>\n",
       "      <td>0.663934</td>\n",
       "    </tr>\n",
       "    <tr>\n",
       "      <th>min</th>\n",
       "      <td>15.000000</td>\n",
       "      <td>80.000000</td>\n",
       "      <td>100.000000</td>\n",
       "      <td>50.000000</td>\n",
       "      <td>0.000000</td>\n",
       "      <td>5.000000</td>\n",
       "    </tr>\n",
       "    <tr>\n",
       "      <th>25%</th>\n",
       "      <td>45.000000</td>\n",
       "      <td>100.000000</td>\n",
       "      <td>124.000000</td>\n",
       "      <td>256.500000</td>\n",
       "      <td>0.000000</td>\n",
       "      <td>7.500000</td>\n",
       "    </tr>\n",
       "    <tr>\n",
       "      <th>50%</th>\n",
       "      <td>60.000000</td>\n",
       "      <td>105.000000</td>\n",
       "      <td>131.000000</td>\n",
       "      <td>320.000000</td>\n",
       "      <td>5.000000</td>\n",
       "      <td>8.000000</td>\n",
       "    </tr>\n",
       "    <tr>\n",
       "      <th>75%</th>\n",
       "      <td>60.000000</td>\n",
       "      <td>111.000000</td>\n",
       "      <td>141.000000</td>\n",
       "      <td>388.500000</td>\n",
       "      <td>8.000000</td>\n",
       "      <td>8.000000</td>\n",
       "    </tr>\n",
       "    <tr>\n",
       "      <th>max</th>\n",
       "      <td>300.000000</td>\n",
       "      <td>159.000000</td>\n",
       "      <td>184.000000</td>\n",
       "      <td>1860.000000</td>\n",
       "      <td>11.000000</td>\n",
       "      <td>12.000000</td>\n",
       "    </tr>\n",
       "  </tbody>\n",
       "</table>\n",
       "</div>"
      ],
      "text/plain": [
       "         Duration  Average_Pulse   Max_Pulse  Calorie_Burnage  Hours_Work  \\\n",
       "count  163.000000     163.000000  163.000000       163.000000  163.000000   \n",
       "mean    64.263804     107.723926  134.226994       382.368098    4.386503   \n",
       "std     42.994520      14.625062   16.403967       274.227106    3.923772   \n",
       "min     15.000000      80.000000  100.000000        50.000000    0.000000   \n",
       "25%     45.000000     100.000000  124.000000       256.500000    0.000000   \n",
       "50%     60.000000     105.000000  131.000000       320.000000    5.000000   \n",
       "75%     60.000000     111.000000  141.000000       388.500000    8.000000   \n",
       "max    300.000000     159.000000  184.000000      1860.000000   11.000000   \n",
       "\n",
       "       Hours_Sleep  \n",
       "count   163.000000  \n",
       "mean      7.680982  \n",
       "std       0.663934  \n",
       "min       5.000000  \n",
       "25%       7.500000  \n",
       "50%       8.000000  \n",
       "75%       8.000000  \n",
       "max      12.000000  "
      ]
     },
     "execution_count": 18,
     "metadata": {},
     "output_type": "execute_result"
    }
   ],
   "source": [
    "import pandas as pd\n",
    "full_healthdata = pd.read_csv(\"C:\\\\Users\\\\NELSON ESTHER\\\\Desktop\\\\fulldata.csv\")\n",
    "# print(full_healthdata)\n",
    "\n",
    "full_healthdata.describe()"
   ]
  },
  {
   "cell_type": "code",
   "execution_count": 19,
   "metadata": {},
   "outputs": [
    {
     "name": "stdout",
     "output_type": "stream",
     "text": [
      "120.0\n"
     ]
    }
   ],
   "source": [
    "import numpy as np\n",
    "\n",
    "Max_Pulse= full_healthdata[\"Max_Pulse\"]\n",
    "percentile10 = np.percentile(Max_Pulse, 10)\n",
    "print(percentile10)"
   ]
  },
  {
   "cell_type": "code",
   "execution_count": null,
   "metadata": {},
   "outputs": [],
   "source": []
  }
 ],
 "metadata": {
  "kernelspec": {
   "display_name": "Python 3",
   "language": "python",
   "name": "python3"
  },
  "language_info": {
   "codemirror_mode": {
    "name": "ipython",
    "version": 3
   },
   "file_extension": ".py",
   "mimetype": "text/x-python",
   "name": "python",
   "nbconvert_exporter": "python",
   "pygments_lexer": "ipython3",
   "version": "3.10.5"
  }
 },
 "nbformat": 4,
 "nbformat_minor": 2
}
