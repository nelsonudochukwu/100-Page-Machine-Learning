{
 "cells": [
  {
   "cell_type": "code",
   "execution_count": null,
   "metadata": {},
   "outputs": [],
   "source": [
    "# supervised-labelled\n",
    "# unsupervised-unlabelled\n",
    "# semi-supervised - combination of both labelled and unlabelled"
   ]
  },
  {
   "cell_type": "code",
   "execution_count": 10,
   "metadata": {},
   "outputs": [
    {
     "name": "stdout",
     "output_type": "stream",
     "text": [
      "   col1  col2  col3\n",
      "0     1     4     7\n",
      "1     2     5     8\n",
      "2     3     6    12\n",
      "3     4     9     1\n",
      "4     7     5    11\n"
     ]
    }
   ],
   "source": [
    "# A data frame is a structured representation of data.\n",
    "# Let's define a data frame with 3 columns and 5 rows with fictional numbers:\n",
    "\n",
    "import pandas as pd\n",
    "\n",
    "d = {'col1': [1, 2, 3, 4, 7], 'col2': [4, 5, 6, 9, 5], 'col3': [7, 8, 12, 1, 11]}\n",
    "\n",
    "df = pd.DataFrame(data=d)\n",
    "\n",
    "print(df)"
   ]
  },
  {
   "cell_type": "code",
   "execution_count": 5,
   "metadata": {},
   "outputs": [
    {
     "name": "stdout",
     "output_type": "stream",
     "text": [
      "3\n",
      "5\n"
     ]
    }
   ],
   "source": [
    "# for finding number of rows, df.shape[0]\n",
    "# for finding number of column, df.shape[1]\n",
    "\n",
    "column_num = df.shape[1]\n",
    "print(column_num)\n",
    "\n",
    "row_num = df.shape[0]\n",
    "print(row_num)"
   ]
  },
  {
   "cell_type": "code",
   "execution_count": 6,
   "metadata": {},
   "outputs": [
    {
     "name": "stdout",
     "output_type": "stream",
     "text": [
      "125\n",
      "80\n"
     ]
    }
   ],
   "source": [
    "average_pulse = (80, 85, 90, 95, 100, 105, 110, 115, 120, 125)\n",
    "max_average = max(average_pulse)\n",
    "print(max_average)\n",
    "\n",
    "min_average = min(average_pulse)\n",
    "print(min_average)"
   ]
  },
  {
   "cell_type": "code",
   "execution_count": 8,
   "metadata": {},
   "outputs": [
    {
     "name": "stdout",
     "output_type": "stream",
     "text": [
      "102.5\n",
      "285.0\n"
     ]
    }
   ],
   "source": [
    "import numpy as np\n",
    "mean_average_pulse = np.mean(average_pulse)\n",
    "print(mean_average_pulse)\n",
    "\n",
    "Calorie_burnage = [240, 250, 260, 270, 280, 290, 300, 310, 320, 330]\n",
    "average_calorie = np.mean(Calorie_burnage)\n",
    "print(average_calorie)"
   ]
  },
  {
   "cell_type": "code",
   "execution_count": 15,
   "metadata": {},
   "outputs": [
    {
     "name": "stdout",
     "output_type": "stream",
     "text": [
      "   Duration  Average_Pulse  Max_Pulse  Calorie_Burnage  Hours_Work  \\\n",
      "0        30             80        120              240          10   \n",
      "1        30             85        120              250          10   \n",
      "2        45             90        130              260           8   \n",
      "3        45             95        130              270           8   \n",
      "4        45            100        140              280           0   \n",
      "5        60            105        140              290           7   \n",
      "6        60            110        145              300           7   \n",
      "7        60            115        145              310           8   \n",
      "8        75            120        150              320           0   \n",
      "9        75            125        150              330           8   \n",
      "\n",
      "   Hours_Sleep  \n",
      "0            7  \n",
      "1            7  \n",
      "2            7  \n",
      "3            7  \n",
      "4            7  \n",
      "5            8  \n",
      "6            8  \n",
      "7            8  \n",
      "8            8  \n",
      "9            8  \n"
     ]
    }
   ],
   "source": [
    "import pandas as pd\n",
    "\n",
    "health_data = pd.read_csv(\"C:\\\\Users\\\\NELSON ESTHER\\\\Desktop\\\\data.csv\")\n",
    "print(health_data)"
   ]
  },
  {
   "cell_type": "code",
   "execution_count": null,
   "metadata": {},
   "outputs": [],
   "source": []
  },
  {
   "cell_type": "code",
   "execution_count": null,
   "metadata": {},
   "outputs": [],
   "source": []
  }
 ],
 "metadata": {
  "kernelspec": {
   "display_name": "Python 3",
   "language": "python",
   "name": "python3"
  },
  "language_info": {
   "codemirror_mode": {
    "name": "ipython",
    "version": 3
   },
   "file_extension": ".py",
   "mimetype": "text/x-python",
   "name": "python",
   "nbconvert_exporter": "python",
   "pygments_lexer": "ipython3",
   "version": "3.10.5"
  }
 },
 "nbformat": 4,
 "nbformat_minor": 2
}
